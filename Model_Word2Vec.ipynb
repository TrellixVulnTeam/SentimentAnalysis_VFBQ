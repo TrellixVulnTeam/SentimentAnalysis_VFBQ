{
 "cells": [
  {
   "cell_type": "code",
   "execution_count": 18,
   "metadata": {},
   "outputs": [],
   "source": [
    "from time import time \n",
    "import pandas as pd\n",
    "from gensim.models import Word2Vec\n",
    "from gensim.models.phrases import Phrases, Phraser"
   ]
  },
  {
   "cell_type": "code",
   "execution_count": 3,
   "metadata": {},
   "outputs": [],
   "source": [
    "df = pd.read_csv('CleanedData.csv')"
   ]
  },
  {
   "cell_type": "code",
   "execution_count": 17,
   "metadata": {},
   "outputs": [
    {
     "data": {
      "text/plain": [
       "['instagram',\n",
       " 'says',\n",
       " 'parental',\n",
       " 'controls',\n",
       " 'arrive',\n",
       " 'march',\n",
       " 'adam',\n",
       " 'mosseri',\n",
       " 'head',\n",
       " 'company',\n",
       " 'expected_face',\n",
       " 'questions',\n",
       " 'lawmakers',\n",
       " 'week',\n",
       " 'whether',\n",
       " 'social_media',\n",
       " 'harms',\n",
       " 'children']"
      ]
     },
     "execution_count": 17,
     "metadata": {},
     "output_type": "execute_result"
    }
   ],
   "source": [
    "# Text corpus, consisted of processed text data for model training\n",
    "text_corpus = [row.split() for row in df.Cleaned_sentences]\n",
    "# Automatic detection of phrases longer than one word\n",
    "phrases = Phrases(text_corpus, min_count=1)\n",
    "bigram = Phraser(phrases)\n",
    "text_corpus = bigram[text_corpus]\n",
    "text_corpus[3]"
   ]
  },
  {
   "cell_type": "code",
   "execution_count": 21,
   "metadata": {},
   "outputs": [
    {
     "name": "stdout",
     "output_type": "stream",
     "text": [
      "Time to build vocab: 0.0 mins\n"
     ]
    }
   ],
   "source": [
    "# Model characteristics, build word distance vectors\n",
    "# vector_size (int, optional) – Dimensionality of the word vectors.\n",
    "\n",
    "# window (int, optional) – Maximum distance between the current and predicted word within a sentence.\n",
    "\n",
    "# min_count (int, optional) – Ignores all words with total frequency lower than this.\n",
    "# alpha (float, optional) – The initial learning rate.\n",
    "\n",
    "# min_alpha (float, optional) – Learning rate will\n",
    "\n",
    "# negative (int, optional) – If > 0, negative sampling will be used, the int for negative specifies how many “noise words” should be drawn (usually between 5-20). If set to 0, no negative sampling is used.\n",
    "\n",
    "# sample (float, optional) – The threshold for configuring which higher-frequency words are randomly downsampled, useful range is (0, 1e-5).\n",
    "\n",
    "# workers (int, optional) – Use these many worker threads to train the model (=faster training with multicore machines).\n",
    "w2v_model = Word2Vec(min_count=3,\n",
    "                     window=4,\n",
    "                     sample=1e-5, \n",
    "                     negative=20,\n",
    "                     workers=1)\n",
    "\n",
    "start = time()\n",
    "\n",
    "w2v_model.build_vocab(text_corpus)\n",
    "\n",
    "print('Time to build vocab: {} mins'.format(round((time() - start) / 60, 2)))"
   ]
  },
  {
   "cell_type": "code",
   "execution_count": 24,
   "metadata": {},
   "outputs": [
    {
     "name": "stdout",
     "output_type": "stream",
     "text": [
      "Time to train the model: 0.01 mins\n"
     ]
    }
   ],
   "source": [
    "# Model training\n",
    "start = time()\n",
    "\n",
    "w2v_model.train(text_corpus, total_examples=w2v_model.corpus_count, epochs=30, report_delay=1)\n",
    "\n",
    "print('Time to train the model: {} mins'.format(round((time() - start) / 60, 2)))"
   ]
  },
  {
   "cell_type": "code",
   "execution_count": 25,
   "metadata": {},
   "outputs": [],
   "source": [
    "w2v_model.save(\"word2vec.model\")"
   ]
  }
 ],
 "metadata": {
  "kernelspec": {
   "display_name": "Python 3",
   "language": "python",
   "name": "python3"
  },
  "language_info": {
   "codemirror_mode": {
    "name": "ipython",
    "version": 3
   },
   "file_extension": ".py",
   "mimetype": "text/x-python",
   "name": "python",
   "nbconvert_exporter": "python",
   "pygments_lexer": "ipython3",
   "version": "3.8.3"
  }
 },
 "nbformat": 4,
 "nbformat_minor": 4
}
