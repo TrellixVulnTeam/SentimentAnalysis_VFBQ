{
 "cells": [
  {
   "cell_type": "code",
   "execution_count": 1,
   "metadata": {},
   "outputs": [],
   "source": [
    "import numpy as np\n",
    "import pandas as pd\n",
    "from gensim.models import Word2Vec\n",
    "from sklearn.cluster import KMeans"
   ]
  },
  {
   "cell_type": "code",
   "execution_count": 2,
   "metadata": {},
   "outputs": [],
   "source": [
    "word_vectors = Word2Vec.load(\"word2vec.model\").wv"
   ]
  },
  {
   "cell_type": "code",
   "execution_count": 7,
   "metadata": {},
   "outputs": [],
   "source": [
    "model = KMeans(n_clusters=2, max_iter=1000, random_state=True, n_init=50).fit(X=word_vectors.vectors.astype('double'))"
   ]
  },
  {
   "cell_type": "code",
   "execution_count": 10,
   "metadata": {},
   "outputs": [
    {
     "data": {
      "text/plain": [
       "[('help_gave', 0.3629717230796814),\n",
       " ('spread', 0.3598177134990692),\n",
       " ('travel', 0.3429921269416809),\n",
       " ('masks', 0.30952897667884827),\n",
       " ('less', 0.30892136693000793),\n",
       " ('according', 0.3031187057495117),\n",
       " ('ceremony', 0.2890661060810089),\n",
       " ('year', 0.28855928778648376),\n",
       " ('group', 0.2878999412059784),\n",
       " ('social_media', 0.27964162826538086)]"
      ]
     },
     "execution_count": 10,
     "metadata": {},
     "output_type": "execute_result"
    }
   ],
   "source": [
    "word_vectors.similar_by_vector(model.cluster_centers_[1], topn=10, restrict_vocab=None)"
   ]
  },
  {
   "cell_type": "code",
   "execution_count": 11,
   "metadata": {},
   "outputs": [],
   "source": [
    "positive_cluster_index = 1\n",
    "positive_cluster_center = model.cluster_centers_[positive_cluster_index]\n",
    "negative_cluster_center = model.cluster_centers_[1-positive_cluster_index]"
   ]
  },
  {
   "cell_type": "code",
   "execution_count": 13,
   "metadata": {},
   "outputs": [],
   "source": [
    "words = pd.DataFrame(word_vectors.index_to_key)\n",
    "words.columns = ['words']\n",
    "words['vectors'] = words.words.apply(lambda x: word_vectors[f'{x}'])\n",
    "words['cluster'] = words.vectors.apply(lambda x: model.predict([np.array(x)]))\n",
    "words.cluster = words.cluster.apply(lambda x: x[0])"
   ]
  },
  {
   "cell_type": "code",
   "execution_count": 14,
   "metadata": {},
   "outputs": [],
   "source": [
    "# Assign each word sentiment score — negative or positive value (-1 or 1) \n",
    "# based on the cluster to which they belong. \n",
    "# To weigh this score I multiplied it by how close they were to their cluster (to weigh how potentially positive/negative they are). \n",
    "# As the score that K-means algorithm outputs is distance from both clusters, to properly weigh them I multiplied them by the inverse of closeness score (divided sentiment score by closeness score).\n",
    "\n",
    "words['cluster_value'] = [1 if i==positive_cluster_index else -1 for i in words.cluster]\n",
    "words['closeness_score'] = words.apply(lambda x: 1/(model.transform([x.vectors]).min()), axis=1)\n",
    "words['sentiment_coeff'] = words.closeness_score * words.cluster_value"
   ]
  },
  {
   "cell_type": "code",
   "execution_count": 15,
   "metadata": {},
   "outputs": [
    {
     "data": {
      "text/html": [
       "<div>\n",
       "<style scoped>\n",
       "    .dataframe tbody tr th:only-of-type {\n",
       "        vertical-align: middle;\n",
       "    }\n",
       "\n",
       "    .dataframe tbody tr th {\n",
       "        vertical-align: top;\n",
       "    }\n",
       "\n",
       "    .dataframe thead th {\n",
       "        text-align: right;\n",
       "    }\n",
       "</style>\n",
       "<table border=\"1\" class=\"dataframe\">\n",
       "  <thead>\n",
       "    <tr style=\"text-align: right;\">\n",
       "      <th></th>\n",
       "      <th>words</th>\n",
       "      <th>vectors</th>\n",
       "      <th>cluster</th>\n",
       "      <th>cluster_value</th>\n",
       "      <th>closeness_score</th>\n",
       "      <th>sentiment_coeff</th>\n",
       "    </tr>\n",
       "  </thead>\n",
       "  <tbody>\n",
       "    <tr>\n",
       "      <th>0</th>\n",
       "      <td>new</td>\n",
       "      <td>[-0.014966709, 0.010970789, 0.09808832, 0.1662...</td>\n",
       "      <td>0</td>\n",
       "      <td>-1</td>\n",
       "      <td>1.009614</td>\n",
       "      <td>-1.009614</td>\n",
       "    </tr>\n",
       "    <tr>\n",
       "      <th>1</th>\n",
       "      <td>said</td>\n",
       "      <td>[-0.1531129, 0.06944403, 0.09789845, 0.1087224...</td>\n",
       "      <td>1</td>\n",
       "      <td>1</td>\n",
       "      <td>1.014201</td>\n",
       "      <td>1.014201</td>\n",
       "    </tr>\n",
       "    <tr>\n",
       "      <th>2</th>\n",
       "      <td>u</td>\n",
       "      <td>[-0.0062855785, 0.06274626, -0.10941577, -0.01...</td>\n",
       "      <td>0</td>\n",
       "      <td>-1</td>\n",
       "      <td>0.999861</td>\n",
       "      <td>-0.999861</td>\n",
       "    </tr>\n",
       "    <tr>\n",
       "      <th>3</th>\n",
       "      <td>one</td>\n",
       "      <td>[-0.14592943, 0.16501668, 0.0027042925, -0.029...</td>\n",
       "      <td>0</td>\n",
       "      <td>-1</td>\n",
       "      <td>1.006403</td>\n",
       "      <td>-1.006403</td>\n",
       "    </tr>\n",
       "    <tr>\n",
       "      <th>4</th>\n",
       "      <td>first</td>\n",
       "      <td>[-0.12830456, 0.030621363, -0.11716264, -0.033...</td>\n",
       "      <td>1</td>\n",
       "      <td>1</td>\n",
       "      <td>1.018103</td>\n",
       "      <td>1.018103</td>\n",
       "    </tr>\n",
       "    <tr>\n",
       "      <th>...</th>\n",
       "      <td>...</td>\n",
       "      <td>...</td>\n",
       "      <td>...</td>\n",
       "      <td>...</td>\n",
       "      <td>...</td>\n",
       "      <td>...</td>\n",
       "    </tr>\n",
       "    <tr>\n",
       "      <th>425</th>\n",
       "      <td>often</td>\n",
       "      <td>[-0.024559451, 0.0804692, -0.14266136, 0.06234...</td>\n",
       "      <td>0</td>\n",
       "      <td>-1</td>\n",
       "      <td>1.011132</td>\n",
       "      <td>-1.011132</td>\n",
       "    </tr>\n",
       "    <tr>\n",
       "      <th>426</th>\n",
       "      <td>experts</td>\n",
       "      <td>[-0.019062854, 0.04005569, -0.07883035, -0.013...</td>\n",
       "      <td>0</td>\n",
       "      <td>-1</td>\n",
       "      <td>1.020028</td>\n",
       "      <td>-1.020028</td>\n",
       "    </tr>\n",
       "    <tr>\n",
       "      <th>427</th>\n",
       "      <td>running</td>\n",
       "      <td>[-0.056957595, 0.15651073, 0.046570297, -0.162...</td>\n",
       "      <td>1</td>\n",
       "      <td>1</td>\n",
       "      <td>0.999435</td>\n",
       "      <td>0.999435</td>\n",
       "    </tr>\n",
       "    <tr>\n",
       "      <th>428</th>\n",
       "      <td>live</td>\n",
       "      <td>[0.0005727796, 0.041767076, -0.109537534, -0.1...</td>\n",
       "      <td>1</td>\n",
       "      <td>1</td>\n",
       "      <td>1.003040</td>\n",
       "      <td>1.003040</td>\n",
       "    </tr>\n",
       "    <tr>\n",
       "      <th>429</th>\n",
       "      <td>includes</td>\n",
       "      <td>[-0.06420695, -0.08552573, -0.17311418, 0.0063...</td>\n",
       "      <td>1</td>\n",
       "      <td>1</td>\n",
       "      <td>1.018383</td>\n",
       "      <td>1.018383</td>\n",
       "    </tr>\n",
       "  </tbody>\n",
       "</table>\n",
       "<p>430 rows × 6 columns</p>\n",
       "</div>"
      ],
      "text/plain": [
       "        words                                            vectors  cluster  \\\n",
       "0         new  [-0.014966709, 0.010970789, 0.09808832, 0.1662...        0   \n",
       "1        said  [-0.1531129, 0.06944403, 0.09789845, 0.1087224...        1   \n",
       "2           u  [-0.0062855785, 0.06274626, -0.10941577, -0.01...        0   \n",
       "3         one  [-0.14592943, 0.16501668, 0.0027042925, -0.029...        0   \n",
       "4       first  [-0.12830456, 0.030621363, -0.11716264, -0.033...        1   \n",
       "..        ...                                                ...      ...   \n",
       "425     often  [-0.024559451, 0.0804692, -0.14266136, 0.06234...        0   \n",
       "426   experts  [-0.019062854, 0.04005569, -0.07883035, -0.013...        0   \n",
       "427   running  [-0.056957595, 0.15651073, 0.046570297, -0.162...        1   \n",
       "428      live  [0.0005727796, 0.041767076, -0.109537534, -0.1...        1   \n",
       "429  includes  [-0.06420695, -0.08552573, -0.17311418, 0.0063...        1   \n",
       "\n",
       "     cluster_value  closeness_score  sentiment_coeff  \n",
       "0               -1         1.009614        -1.009614  \n",
       "1                1         1.014201         1.014201  \n",
       "2               -1         0.999861        -0.999861  \n",
       "3               -1         1.006403        -1.006403  \n",
       "4                1         1.018103         1.018103  \n",
       "..             ...              ...              ...  \n",
       "425             -1         1.011132        -1.011132  \n",
       "426             -1         1.020028        -1.020028  \n",
       "427              1         0.999435         0.999435  \n",
       "428              1         1.003040         1.003040  \n",
       "429              1         1.018383         1.018383  \n",
       "\n",
       "[430 rows x 6 columns]"
      ]
     },
     "execution_count": 15,
     "metadata": {},
     "output_type": "execute_result"
    }
   ],
   "source": [
    "words"
   ]
  },
  {
   "cell_type": "code",
   "execution_count": 16,
   "metadata": {},
   "outputs": [],
   "source": [
    "words[['words', 'sentiment_coeff']].to_csv('sentiment_dictionary.csv', index=False)"
   ]
  }
 ],
 "metadata": {
  "kernelspec": {
   "display_name": "Python 3",
   "language": "python",
   "name": "python3"
  },
  "language_info": {
   "codemirror_mode": {
    "name": "ipython",
    "version": 3
   },
   "file_extension": ".py",
   "mimetype": "text/x-python",
   "name": "python",
   "nbconvert_exporter": "python",
   "pygments_lexer": "ipython3",
   "version": "3.8.3"
  }
 },
 "nbformat": 4,
 "nbformat_minor": 4
}
