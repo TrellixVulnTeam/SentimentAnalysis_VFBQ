{
 "cells": [
  {
   "cell_type": "code",
   "execution_count": 19,
   "metadata": {},
   "outputs": [
    {
     "ename": "ModuleNotFoundError",
     "evalue": "No module named 'spacy'",
     "output_type": "error",
     "traceback": [
      "\u001b[1;31m---------------------------------------------------------------------------\u001b[0m",
      "\u001b[1;31mModuleNotFoundError\u001b[0m                       Traceback (most recent call last)",
      "\u001b[1;32m<ipython-input-19-76a01d9c502b>\u001b[0m in \u001b[0;36m<module>\u001b[1;34m\u001b[0m\n\u001b[1;32m----> 1\u001b[1;33m \u001b[1;32mimport\u001b[0m \u001b[0mspacy\u001b[0m\u001b[1;33m\u001b[0m\u001b[1;33m\u001b[0m\u001b[0m\n\u001b[0m",
      "\u001b[1;31mModuleNotFoundError\u001b[0m: No module named 'spacy'"
     ]
    }
   ],
   "source": [
    "import spacy"
   ]
  },
  {
   "cell_type": "code",
   "execution_count": 11,
   "metadata": {},
   "outputs": [
    {
     "name": "stdout",
     "output_type": "stream",
     "text": [
      "Collecting spacy\n",
      "  Using cached spacy-3.2.1.tar.gz (1.1 MB)\n",
      "  Installing build dependencies: started\n",
      "  Installing build dependencies: still running...\n",
      "  Installing build dependencies: finished with status 'error'\n"
     ]
    },
    {
     "name": "stderr",
     "output_type": "stream",
     "text": [
      "  ERROR: Command errored out with exit status 1:\n",
      "   command: 'C:\\Users\\Jul\\anaconda3\\python.exe' 'C:\\Users\\Jul\\anaconda3\\lib\\site-packages\\pip' install --ignore-installed --no-user --prefix 'C:\\Users\\Jul\\AppData\\Local\\Temp\\pip-build-env-0gt082jj\\overlay' --no-warn-script-location --no-binary :none: --only-binary :none: -i https://pypi.org/simple -- setuptools 'cython>=0.25,<3.0' 'cymem>=2.0.2,<2.1.0' 'preshed>=3.0.2,<3.1.0' 'murmurhash>=0.28.0,<1.1.0' 'thinc>=8.0.12,<8.1.0' 'blis>=0.4.0,<0.8.0' pathy 'numpy>=1.15.0'\n",
      "       cwd: None\n",
      "  Complete output (72 lines):\n",
      "  Collecting setuptools\n",
      "    Using cached setuptools-60.1.0-py3-none-any.whl (952 kB)\n",
      "  Collecting cython<3.0,>=0.25\n",
      "    Using cached Cython-0.29.26-py2.py3-none-any.whl (983 kB)\n",
      "  Processing c:\\users\\jul\\appdata\\local\\pip\\cache\\wheels\\dc\\14\\11\\b387cd7ff8f6ad36b7b939ff70f877b26db1e0d89989198016\\cymem-2.0.6-cp38-cp38-win32.whl\n",
      "  Processing c:\\users\\jul\\appdata\\local\\pip\\cache\\wheels\\ca\\6f\\62\\3333a713bb0da1494bad55609b143e4590d6722e4abbef9614\\preshed-3.0.6-cp38-cp38-win32.whl\n",
      "  Processing c:\\users\\jul\\appdata\\local\\pip\\cache\\wheels\\92\\80\\da\\967774a45670798684178c8cc7cef804d239d94a3e90cd7bee\\murmurhash-1.0.6-cp38-cp38-win32.whl\n",
      "  Collecting thinc<8.1.0,>=8.0.12\n",
      "    Using cached thinc-8.0.13.tar.gz (175 kB)\n",
      "    Installing build dependencies: started\n",
      "    Installing build dependencies: finished with status 'error'\n",
      "    ERROR: Command errored out with exit status 1:\n",
      "     command: 'C:\\Users\\Jul\\anaconda3\\python.exe' 'C:\\Users\\Jul\\anaconda3\\lib\\site-packages\\pip' install --ignore-installed --no-user --prefix 'C:\\Users\\Jul\\AppData\\Local\\Temp\\pip-build-env-ah5_4yhp\\overlay' --no-warn-script-location --no-binary :none: --only-binary :none: -i https://pypi.org/simple -- setuptools 'cython>=0.25,<3.0' 'murmurhash>=0.28.0,<1.1.0' 'cymem>=2.0.2,<2.1.0' 'preshed>=3.0.2,<3.1.0' 'blis>=0.4.0,<0.8.0' 'numpy>=1.15.0'\n",
      "         cwd: None\n",
      "    Complete output (55 lines):\n",
      "    Collecting setuptools\n",
      "      Using cached setuptools-60.1.0-py3-none-any.whl (952 kB)\n",
      "    Collecting cython<3.0,>=0.25\n",
      "      Using cached Cython-0.29.26-py2.py3-none-any.whl (983 kB)\n",
      "    Processing c:\\users\\jul\\appdata\\local\\pip\\cache\\wheels\\92\\80\\da\\967774a45670798684178c8cc7cef804d239d94a3e90cd7bee\\murmurhash-1.0.6-cp38-cp38-win32.whl\n",
      "    Processing c:\\users\\jul\\appdata\\local\\pip\\cache\\wheels\\dc\\14\\11\\b387cd7ff8f6ad36b7b939ff70f877b26db1e0d89989198016\\cymem-2.0.6-cp38-cp38-win32.whl\n",
      "    Processing c:\\users\\jul\\appdata\\local\\pip\\cache\\wheels\\ca\\6f\\62\\3333a713bb0da1494bad55609b143e4590d6722e4abbef9614\\preshed-3.0.6-cp38-cp38-win32.whl\n",
      "    Collecting blis<0.8.0,>=0.4.0\n",
      "      Using cached blis-0.7.5.tar.gz (2.8 MB)\n",
      "      Installing build dependencies: started\n",
      "      Installing build dependencies: finished with status 'done'\n",
      "      Getting requirements to build wheel: started\n",
      "      Getting requirements to build wheel: finished with status 'done'\n",
      "      Installing backend dependencies: started\n",
      "      Installing backend dependencies: finished with status 'done'\n",
      "        Preparing wheel metadata: started\n",
      "        Preparing wheel metadata: finished with status 'done'\n",
      "    Collecting numpy>=1.15.0\n",
      "      Using cached numpy-1.21.5-cp38-cp38-win32.whl (11.7 MB)\n",
      "    Building wheels for collected packages: blis\n",
      "      Building wheel for blis (PEP 517): started\n",
      "      Building wheel for blis (PEP 517): finished with status 'error'\n",
      "      ERROR: Command errored out with exit status 1:\n",
      "       command: 'C:\\Users\\Jul\\anaconda3\\python.exe' 'C:\\Users\\Jul\\anaconda3\\lib\\site-packages\\pip\\_vendor\\pep517\\_in_process.py' build_wheel 'C:\\Users\\Jul\\AppData\\Local\\Temp\\tmph11bkiq1'\n",
      "           cwd: C:\\Users\\Jul\\AppData\\Local\\Temp\\pip-install-huo50ujc\\blis\n",
      "      Complete output (25 lines):\n",
      "      BLIS_COMPILER? None\n",
      "      running bdist_wheel\n",
      "      running build\n",
      "      running build_py\n",
      "      creating build\n",
      "      creating build\\lib.win32-3.8\n",
      "      creating build\\lib.win32-3.8\\blis\n",
      "      copying blis\\about.py -> build\\lib.win32-3.8\\blis\n",
      "      copying blis\\benchmark.py -> build\\lib.win32-3.8\\blis\n",
      "      copying blis\\__init__.py -> build\\lib.win32-3.8\\blis\n",
      "      creating build\\lib.win32-3.8\\blis\\tests\n",
      "      copying blis\\tests\\common.py -> build\\lib.win32-3.8\\blis\\tests\n",
      "      copying blis\\tests\\test_dotv.py -> build\\lib.win32-3.8\\blis\\tests\n",
      "      copying blis\\tests\\test_gemm.py -> build\\lib.win32-3.8\\blis\\tests\n",
      "      copying blis\\tests\\__init__.py -> build\\lib.win32-3.8\\blis\\tests\n",
      "      copying blis\\cy.pyx -> build\\lib.win32-3.8\\blis\n",
      "      copying blis\\py.pyx -> build\\lib.win32-3.8\\blis\n",
      "      copying blis\\cy.pxd -> build\\lib.win32-3.8\\blis\n",
      "      copying blis\\__init__.pxd -> build\\lib.win32-3.8\\blis\n",
      "      running build_ext\n",
      "      Build options win32 msvc\n",
      "      BUILD ARCH: x86_64\n",
      "      {'7ZIP': '\"C:\\\\Program Files\\\\7-Zip\\\\7z.exe\"', 'ALLUSERSPROFILE': 'C:\\\\ProgramData', 'APPDATA': 'C:\\\\Users\\\\appveyor\\\\AppData\\\\Roaming', 'APPVEYOR': 'True', 'APPVEYOR_ACCOUNT_NAME': 'honnibal', 'APPVEYOR_API_URL': 'http://localhost:1033/', 'APPVEYOR_BUILD_AGENT_HYPERV_NIC_CONFIGURED': 'true', 'APPVEYOR_BUILD_FOLDER': 'C:\\\\projects\\\\cython-blis-h674r', 'APPVEYOR_BUILD_ID': '34663432', 'APPVEYOR_BUILD_NUMBER': '555', 'APPVEYOR_BUILD_VERSION': '1.0.555', 'APPVEYOR_BUILD_WORKER_IMAGE': 'Visual Studio 2015', 'APPVEYOR_FORCED_BUILD': 'True', 'APPVEYOR_JOB_ID': 'ru8t2iw8ko4nlym1', 'APPVEYOR_JOB_NUMBER': '1', 'APPVEYOR_PROJECT_ID': '484208', 'APPVEYOR_PROJECT_NAME': 'cython-blis', 'APPVEYOR_PROJECT_SLUG': 'cython-blis-h674r', 'APPVEYOR_REPO_BRANCH': 'blis-0.7.0', 'APPVEYOR_REPO_COMMIT': 'ebf2df4deeb6587430c1f1e841f2249b28f185a2', 'APPVEYOR_REPO_COMMIT_AUTHOR': 'Matthew Honnibal', 'APPVEYOR_REPO_COMMIT_AUTHOR_EMAIL': 'honnibal+gh@gmail.com', 'APPVEYOR_REPO_COMMIT_MESSAGE': 'Update appveyor', 'APPVEYOR_REPO_COMMIT_TIMESTAMP': '2020-08-14T16:32:14.0000000Z', 'APPVEYOR_REPO_NAME': 'explosion/cython-blis', 'APPVEYOR_REPO_PROVIDER': 'gitHub', 'APPVEYOR_REPO_SCM': 'git', 'APPVEYOR_REPO_TAG': 'false', 'APPVEYOR_URL': 'https://ci.appveyor.com', 'APR_ICONV_PATH': 'C:\\\\Program Files (x86)\\\\Subversion\\\\iconv', 'AR': 'llvm-ar', 'AS': 'llvm-as', 'AVVM_DOWNLOAD_URL': 'https://appveyordownloads.blob.core.windows.net/avvm', 'CC': 'clang', 'CFLAGS': '-Wno-macro-redefined', 'CI': 'True', 'CI_LINUX': 'False', 'CI_WINDOWS': 'True', 'COMMONPROGRAMFILES': 'C:\\\\Program Files\\\\Common Files', 'COMPUTERNAME': 'APPVYR-WIN', 'COMSPEC': 'C:\\\\windows\\\\system32\\\\cmd.exe', 'CONFIG_SITE': 'C:/Program Files/Git/etc/config.site', 'CHOCOLATEYINSTALL': 'C:\\\\ProgramData\\\\chocolatey', 'CHOCOLATEYLASTPATHUPDATE': '132085537502579915', 'CODECONTRACTSINSTALLDIR': 'C:\\\\Program Files (x86)\\\\Microsoft\\\\Contracts\\\\', 'COMMANDPROMPTTYPE': 'Native', 'COMMONPROGRAMFILES(X86)': 'C:\\\\Program Files (x86)\\\\Common Files', 'COMMONPROGRAMW6432': 'C:\\\\Program Files\\\\Common Files', 'DXSDK_DIR': 'C:\\\\Program Files (x86)\\\\Microsoft DirectX SDK (June 2010)\\\\', 'ERLANG_HOME': 'C:\\\\Program Files\\\\erl9.2', 'ENABLENUGETPACKAGERESTORE': 'true', 'EXTENSIONSDKDIR': 'C:\\\\Program Files (x86)\\\\Microsoft SDKs\\\\Windows Kits\\\\10\\\\ExtensionSDKs', 'FP_NO_HOST_CHECK': 'NO', 'FSHARPINSTALLDIR': 'C:\\\\Program Files (x86)\\\\Microsoft SDKs\\\\F#\\\\4.0\\\\Framework\\\\v4.0\\\\', 'FRAMEWORK40VERSION': 'v4.0', 'FRAMEWORKDIR64': 'c:\\\\Windows\\\\Microsoft.NET\\\\Framework64', 'FRAMEWORKDIR': 'c:\\\\Windows\\\\Microsoft.NET\\\\Framework64', 'FRAMEWORKVERSION64': 'v4.0.30319', 'FRAMEWORKVERSION': 'v4.0.30319', 'GIT_LFS_PATH': 'C:\\\\Program Files\\\\Git LFS', 'GOROOT': 'C:\\\\go', 'HOME': 'C:\\\\Users\\\\appveyor', 'HOMEDRIVE': 'C:', 'HOMEPATH': '\\\\Users\\\\appveyor', 'HOSTNAME': 'APPVYR-WIN', 'INCLUDE': 'C:\\\\Program Files (x86)\\\\Microsoft Visual Studio 14.0\\\\VC\\\\INCLUDE;C:\\\\Program Files (x86)\\\\Microsoft Visual Studio 14.0\\\\VC\\\\ATLMFC\\\\INCLUDE;C:\\\\Program Files (x86)\\\\Windows Kits\\\\10\\\\include\\\\10.0.18362.0\\\\ucrt;C:\\\\Program Files (x86)\\\\Windows Kits\\\\NETFXSDK\\\\4.6.1\\\\include\\\\um;C:\\\\Program Files (x86)\\\\Windows Kits\\\\10\\\\include\\\\10.0.18362.0\\\\shared;C:\\\\Program Files (x86)\\\\Windows Kits\\\\10\\\\include\\\\10.0.18362.0\\\\um;C:\\\\Program Files (x86)\\\\Windows Kits\\\\10\\\\include\\\\10.0.18362.0\\\\winrt;', 'INFOPATH': 'C:\\\\Program Files\\\\Git\\\\usr\\\\local\\\\info;C:\\\\Program Files\\\\Git\\\\usr\\\\share\\\\info;C:\\\\Program Files\\\\Git\\\\usr\\\\info;C:\\\\Program Files\\\\Git\\\\share\\\\info', 'JAVA_HOME': 'C:\\\\Progra~1\\\\Java\\\\jdk1.8.0', 'LANG': 'en_US.UTF-8', 'LIB': 'C:\\\\Program Files (x86)\\\\Microsoft Visual Studio 14.0\\\\VC\\\\LIB\\\\amd64;C:\\\\Program Files (x86)\\\\Microsoft Visual Studio 14.0\\\\VC\\\\ATLMFC\\\\LIB\\\\amd64;C:\\\\Program Files (x86)\\\\Windows Kits\\\\10\\\\lib\\\\10.0.18362.0\\\\ucrt\\\\x64;C:\\\\Program Files (x86)\\\\Windows Kits\\\\NETFXSDK\\\\4.6.1\\\\lib\\\\um\\\\x64;C:\\\\Program Files (x86)\\\\Windows Kits\\\\10\\\\lib\\\\10.0.18362.0\\\\um\\\\x64;', 'LIBPATH': 'c:\\\\Windows\\\\Microsoft.NET\\\\Framework64\\\\v4.0.30319;C:\\\\Program Files (x86)\\\\Microsoft Visual Studio 14.0\\\\VC\\\\LIB\\\\amd64;C:\\\\Program Files (x86)\\\\Microsoft Visual Studio 14.0\\\\VC\\\\ATLMFC\\\\LIB\\\\amd64;C:\\\\Program Files (x86)\\\\Windows Kits\\\\10\\\\UnionMetadata;C:\\\\Program Files (x86)\\\\Windows Kits\\\\10\\\\References;C:\\\\Program Files (x86)\\\\Microsoft SDKs\\\\Windows Kits\\\\10\\\\ExtensionSDKs\\\\Microsoft.VCLibs\\\\14.0\\\\References\\\\CommonConfiguration\\\\neutral;', 'LOCALAPPDATA': 'C:\\\\Users\\\\appveyor\\\\AppData\\\\Local', 'LOGONSERVER': '\\\\\\\\APPVYR-WIN', 'M2_HOME': 'C:\\\\Program Files (x86)\\\\Apache\\\\Maven', 'MANPATH': 'C:\\\\Program Files\\\\Git\\\\usr\\\\local\\\\man;C:\\\\Program Files\\\\Git\\\\usr\\\\share\\\\man;C:\\\\Program Files\\\\Git\\\\usr\\\\man;C:\\\\Program Files\\\\Git\\\\share\\\\man', 'MAVEN_HOME': 'C:\\\\Program Files (x86)\\\\Apache\\\\Maven', 'MSYS2_PATH_TYPE': 'inherit', 'MSYSTEM': 'MSYS', 'MSYSTEM_CARCH': 'x86_64', 'MSYSTEM_CHOST': 'x86_64-pc-msys', 'MSYSTEM_PREFIX': 'C:/Program Files/Git/usr', 'NETFXSDKDIR': 'C:\\\\Program Files (x86)\\\\Windows Kits\\\\NETFXSDK\\\\4.6.1\\\\', 'NUMBER_OF_PROCESSORS': '2', 'OLDPWD': 'C:/projects/cython-blis-h674r/flame-blis', 'OPENSSL_CONF': 'C:\\\\OpenSSL-Win32\\\\bin\\\\openssl.cfg', 'ORIGINAL_PATH': 'C:\\\\Program Files (x86)\\\\Microsoft Visual Studio 14.0\\\\Common7\\\\IDE\\\\CommonExtensions\\\\Microsoft\\\\TestWindow;C:\\\\Program Files (x86)\\\\MSBuild\\\\14.0\\\\bin\\\\amd64;C:\\\\Program Files (x86)\\\\Microsoft Visual Studio 14.0\\\\VC\\\\BIN\\\\amd64;C:\\\\Windows\\\\Microsoft.NET\\\\Framework64\\\\v4.0.30319;C:\\\\Program Files (x86)\\\\Microsoft Visual Studio 14.0\\\\VC\\\\VCPackages;C:\\\\Program Files (x86)\\\\Microsoft Visual Studio 14.0\\\\Common7\\\\IDE;C:\\\\Program Files (x86)\\\\Microsoft Visual Studio 14.0\\\\Common7\\\\Tools;C:\\\\Program Files (x86)\\\\HTML Help Workshop;C:\\\\Program Files (x86)\\\\Microsoft Visual Studio 14.0\\\\Team Tools\\\\Performance Tools\\\\x64;C:\\\\Program Files (x86)\\\\Microsoft Visual Studio 14.0\\\\Team Tools\\\\Performance Tools;C:\\\\Program Files (x86)\\\\Windows Kits\\\\10\\\\bin\\\\x64;C:\\\\Program Files (x86)\\\\Windows Kits\\\\10\\\\bin\\\\x86;C:\\\\Program Files (x86)\\\\Microsoft SDKs\\\\Windows\\\\v10.0A\\\\bin\\\\NETFX 4.6.1 Tools\\\\x64;C:\\\\Program Files\\\\LLVM\\\\bin;C:\\\\msys64\\\\mingw64\\\\bin;C:\\\\msys64\\\\bin;C:\\\\Program Files (x86)\\\\Microsoft SDKs\\\\Azure\\\\CLI2\\\\wbin;C:\\\\Perl\\\\site\\\\bin;C:\\\\Perl\\\\bin;C:\\\\Windows\\\\system32;C:\\\\Windows;C:\\\\Windows\\\\System32\\\\Wbem;C:\\\\Windows\\\\System32\\\\WindowsPowerShell\\\\v1.0;C:\\\\Program Files\\\\7-Zip;C:\\\\Program Files\\\\Microsoft\\\\Web Platform Installer;C:\\\\Tools\\\\GitVersion;C:\\\\Tools\\\\PsTools;C:\\\\Program Files\\\\Git LFS;C:\\\\Program Files (x86)\\\\Subversion\\\\bin;C:\\\\Program Files\\\\Microsoft SQL Server\\\\120\\\\Tools\\\\Binn;C:\\\\Program Files\\\\Microsoft SQL Server\\\\Client SDK\\\\ODBC\\\\110\\\\Tools\\\\Binn;C:\\\\Program Files (x86)\\\\Microsoft SQL Server\\\\120\\\\Tools\\\\Binn;C:\\\\Program Files\\\\Microsoft SQL Server\\\\120\\\\DTS\\\\Binn;C:\\\\Program Files (x86)\\\\Microsoft SQL Server\\\\120\\\\Tools\\\\Binn\\\\ManagementStudio;C:\\\\Tools\\\\WebDriver;C:\\\\Program Files (x86)\\\\Microsoft SDKs\\\\TypeScript\\\\1.4;C:\\\\Program Files (x86)\\\\Microsoft Visual Studio 12.0\\\\Common7\\\\IDE\\\\PrivateAssemblies;C:\\\\Program Files (x86)\\\\Microsoft SDKs\\\\Azure\\\\CLI\\\\wbin;C:\\\\Ruby193\\\\bin;C:\\\\Tools\\\\NUnit\\\\bin;C:\\\\Tools\\\\xUnit;C:\\\\Tools\\\\MSpec;C:\\\\Tools\\\\Coverity\\\\bin;C:\\\\Program Files (x86)\\\\CMake\\\\bin;C:\\\\go\\\\bin;C:\\\\Program Files\\\\Java\\\\jdk1.8.0\\\\bin;C:\\\\Python27;C:\\\\Program Files\\\\nodejs;C:\\\\Program Files (x86)\\\\iojs;C:\\\\Program Files\\\\iojs;C:\\\\Program Files\\\\Microsoft SQL Server\\\\130\\\\Tools\\\\Binn;C:\\\\Program Files (x86)\\\\MSBuild\\\\14.0\\\\Bin;C:\\\\Tools\\\\NuGet;C:\\\\Program Files (x86)\\\\Microsoft Visual Studio 14.0\\\\Common7\\\\IDE\\\\CommonExtensions\\\\Microsoft\\\\TestWindow;C:\\\\Program Files\\\\Microsoft DNX\\\\Dnvm;C:\\\\Program Files\\\\Microsoft SQL Server\\\\Client SDK\\\\ODBC\\\\130\\\\Tools\\\\Binn;C:\\\\Program Files (x86)\\\\Microsoft SQL Server\\\\130\\\\Tools\\\\Binn;C:\\\\Program Files (x86)\\\\Microsoft SQL Server\\\\130\\\\DTS\\\\Binn;C:\\\\Program Files\\\\Microsoft SQL Server\\\\130\\\\DTS\\\\Binn;C:\\\\Program Files (x86)\\\\Microsoft SQL Server\\\\110\\\\DTS\\\\Binn;C:\\\\Program Files (x86)\\\\Microsoft SQL Server\\\\120\\\\DTS\\\\Binn;C:\\\\Program Files (x86)\\\\Apache\\\\Maven\\\\bin;C:\\\\Python27\\\\Scripts;C:\\\\Tools\\\\NUnit3;C:\\\\Program Files\\\\Mercurial;C:\\\\Program Files\\\\dotnet;C:\\\\Tools\\\\curl\\\\bin;C:\\\\Program Files (x86)\\\\Microsoft SQL Server\\\\140\\\\DTS\\\\Binn;C:\\\\Program Files (x86)\\\\Microsoft Visual Studio 14.0\\\\Common7\\\\IDE\\\\Extensions\\\\Microsoft\\\\SQLDB\\\\DAC\\\\140;C:\\\\Tools\\\\vcpkg;C:\\\\Program Files (x86)\\\\Microsoft SQL Server\\\\140\\\\Tools\\\\Binn;C:\\\\Program Files\\\\Microsoft SQL Server\\\\140\\\\Tools\\\\Binn;C:\\\\Program Files\\\\Microsoft SQL Server\\\\140\\\\DTS\\\\Binn;C:\\\\Program Files\\\\erl9.2\\\\bin;C:\\\\Program Files (x86)\\\\NSIS;C:\\\\Tools\\\\Octopus;C:\\\\Program Files\\\\Microsoft Service Fabric\\\\bin\\\\Fabric\\\\Fabric.Code;C:\\\\Program Files\\\\Microsoft SDKs\\\\Service Fabric\\\\Tools\\\\ServiceFabricLocalClusterManager;C:\\\\Program Files\\\\LLVM\\\\bin;C:\\\\Users\\\\appveyor\\\\AppData\\\\Roaming\\\\npm;C:\\\\Program Files (x86)\\\\Windows Kits\\\\10\\\\Windows Performance Toolkit;C:\\\\Program Files\\\\PowerShell\\\\6;C:\\\\Program Files (x86)\\\\nodejs;C:\\\\Program Files\\\\Git\\\\cmd;C:\\\\Program Files\\\\Git\\\\usr\\\\bin;C:\\\\Program Files\\\\Meson;C:\\\\ProgramData\\\\chocolatey\\\\bin;C:\\\\Program Files\\\\Amazon\\\\AWSCLI;C:\\\\Program Files (x86)\\\\Yarn\\\\bin;C:\\\\Users\\\\appveyor\\\\.dotnet\\\\tools;C:\\\\Users\\\\appveyor\\\\AppData\\\\Roaming\\\\npm;C:\\\\Users\\\\appveyor\\\\AppData\\\\Local\\\\Yarn\\\\bin;C:\\\\Program Files\\\\AppVeyor\\\\BuildAgent;C:\\\\blis\\\\lib', 'ORIGINAL_TEMP': 'C:/Users/appveyor/AppData/Local/Temp/1', 'ORIGINAL_TMP': 'C:/Users/appveyor/AppData/Local/Temp/1', 'OS': 'Windows_NT', 'PATH': 'C:\\\\Users\\\\appveyor\\\\bin;C:\\\\Program Files\\\\Git\\\\usr\\\\local\\\\bin;C:\\\\Program Files\\\\Git\\\\usr\\\\bin;C:\\\\Program Files\\\\Git\\\\usr\\\\bin;C:\\\\Program Files\\\\Git\\\\opt\\\\bin;C:\\\\Program Files (x86)\\\\Microsoft Visual Studio 14.0\\\\Common7\\\\IDE\\\\CommonExtensions\\\\Microsoft\\\\TestWindow;C:\\\\Program Files (x86)\\\\MSBuild\\\\14.0\\\\bin\\\\amd64;C:\\\\Program Files (x86)\\\\Microsoft Visual Studio 14.0\\\\VC\\\\BIN\\\\amd64;C:\\\\Windows\\\\Microsoft.NET\\\\Framework64\\\\v4.0.30319;C:\\\\Program Files (x86)\\\\Microsoft Visual Studio 14.0\\\\VC\\\\VCPackages;C:\\\\Program Files (x86)\\\\Microsoft Visual Studio 14.0\\\\Common7\\\\IDE;C:\\\\Program Files (x86)\\\\Microsoft Visual Studio 14.0\\\\Common7\\\\Tools;C:\\\\Program Files (x86)\\\\HTML Help Workshop;C:\\\\Program Files (x86)\\\\Microsoft Visual Studio 14.0\\\\Team Tools\\\\Performance Tools\\\\x64;C:\\\\Program Files (x86)\\\\Microsoft Visual Studio 14.0\\\\Team Tools\\\\Performance Tools;C:\\\\Program Files (x86)\\\\Windows Kits\\\\10\\\\bin\\\\x64;C:\\\\Program Files (x86)\\\\Windows Kits\\\\10\\\\bin\\\\x86;C:\\\\Program Files (x86)\\\\Microsoft SDKs\\\\Windows\\\\v10.0A\\\\bin\\\\NETFX 4.6.1 Tools\\\\x64;C:\\\\Program Files\\\\LLVM\\\\bin;C:\\\\msys64\\\\mingw64\\\\bin;C:\\\\msys64\\\\bin;C:\\\\Program Files (x86)\\\\Microsoft SDKs\\\\Azure\\\\CLI2\\\\wbin;C:\\\\Perl\\\\site\\\\bin;C:\\\\Perl\\\\bin;C:\\\\Windows\\\\system32;C:\\\\Windows;C:\\\\Windows\\\\System32\\\\Wbem;C:\\\\Windows\\\\System32\\\\WindowsPowerShell\\\\v1.0;C:\\\\Program Files\\\\7-Zip;C:\\\\Program Files\\\\Microsoft\\\\Web Platform Installer;C:\\\\Tools\\\\GitVersion;C:\\\\Tools\\\\PsTools;C:\\\\Program Files\\\\Git LFS;C:\\\\Program Files (x86)\\\\Subversion\\\\bin;C:\\\\Program Files\\\\Microsoft SQL Server\\\\120\\\\Tools\\\\Binn;C:\\\\Program Files\\\\Microsoft SQL Server\\\\Client SDK\\\\ODBC\\\\110\\\\Tools\\\\Binn;C:\\\\Program Files (x86)\\\\Microsoft SQL Server\\\\120\\\\Tools\\\\Binn;C:\\\\Program Files\\\\Microsoft SQL Server\\\\120\\\\DTS\\\\Binn;C:\\\\Program Files (x86)\\\\Microsoft SQL Server\\\\120\\\\Tools\\\\Binn\\\\ManagementStudio;C:\\\\Tools\\\\WebDriver;C:\\\\Program Files (x86)\\\\Microsoft SDKs\\\\TypeScript\\\\1.4;C:\\\\Program Files (x86)\\\\Microsoft Visual Studio 12.0\\\\Common7\\\\IDE\\\\PrivateAssemblies;C:\\\\Program Files (x86)\\\\Microsoft SDKs\\\\Azure\\\\CLI\\\\wbin;C:\\\\Ruby193\\\\bin;C:\\\\Tools\\\\NUnit\\\\bin;C:\\\\Tools\\\\xUnit;C:\\\\Tools\\\\MSpec;C:\\\\Tools\\\\Coverity\\\\bin;C:\\\\Program Files (x86)\\\\CMake\\\\bin;C:\\\\go\\\\bin;C:\\\\Program Files\\\\Java\\\\jdk1.8.0\\\\bin;C:\\\\Python27;C:\\\\Program Files\\\\nodejs;C:\\\\Program Files (x86)\\\\iojs;C:\\\\Program Files\\\\iojs;C:\\\\Program Files\\\\Microsoft SQL Server\\\\130\\\\Tools\\\\Binn;C:\\\\Program Files (x86)\\\\MSBuild\\\\14.0\\\\Bin;C:\\\\Tools\\\\NuGet;C:\\\\Program Files (x86)\\\\Microsoft Visual Studio 14.0\\\\Common7\\\\IDE\\\\CommonExtensions\\\\Microsoft\\\\TestWindow;C:\\\\Program Files\\\\Microsoft DNX\\\\Dnvm;C:\\\\Program Files\\\\Microsoft SQL Server\\\\Client SDK\\\\ODBC\\\\130\\\\Tools\\\\Binn;C:\\\\Program Files (x86)\\\\Microsoft SQL Server\\\\130\\\\Tools\\\\Binn;C:\\\\Program Files (x86)\\\\Microsoft SQL Server\\\\130\\\\DTS\\\\Binn;C:\\\\Program Files\\\\Microsoft SQL Server\\\\130\\\\DTS\\\\Binn;C:\\\\Program Files (x86)\\\\Microsoft SQL Server\\\\110\\\\DTS\\\\Binn;C:\\\\Program Files (x86)\\\\Microsoft SQL Server\\\\120\\\\DTS\\\\Binn;C:\\\\Program Files (x86)\\\\Apache\\\\Maven\\\\bin;C:\\\\Python27\\\\Scripts;C:\\\\Tools\\\\NUnit3;C:\\\\Program Files\\\\Mercurial;C:\\\\Program Files\\\\dotnet;C:\\\\Tools\\\\curl\\\\bin;C:\\\\Program Files (x86)\\\\Microsoft SQL Server\\\\140\\\\DTS\\\\Binn;C:\\\\Program Files (x86)\\\\Microsoft Visual Studio 14.0\\\\Common7\\\\IDE\\\\Extensions\\\\Microsoft\\\\SQLDB\\\\DAC\\\\140;C:\\\\Tools\\\\vcpkg;C:\\\\Program Files (x86)\\\\Microsoft SQL Server\\\\140\\\\Tools\\\\Binn;C:\\\\Program Files\\\\Microsoft SQL Server\\\\140\\\\Tools\\\\Binn;C:\\\\Program Files\\\\Microsoft SQL Server\\\\140\\\\DTS\\\\Binn;C:\\\\Program Files\\\\erl9.2\\\\bin;C:\\\\Program Files (x86)\\\\NSIS;C:\\\\Tools\\\\Octopus;C:\\\\Program Files\\\\Microsoft Service Fabric\\\\bin\\\\Fabric\\\\Fabric.Code;C:\\\\Program Files\\\\Microsoft SDKs\\\\Service Fabric\\\\Tools\\\\ServiceFabricLocalClusterManager;C:\\\\Program Files\\\\LLVM\\\\bin;C:\\\\Users\\\\appveyor\\\\AppData\\\\Roaming\\\\npm;C:\\\\Program Files (x86)\\\\Windows Kits\\\\10\\\\Windows Performance Toolkit;C:\\\\Program Files\\\\PowerShell\\\\6;C:\\\\Program Files (x86)\\\\nodejs;C:\\\\Program Files\\\\Git\\\\cmd;C:\\\\Program Files\\\\Git\\\\usr\\\\bin;C:\\\\Program Files\\\\Meson;C:\\\\ProgramData\\\\chocolatey\\\\bin;C:\\\\Program Files\\\\Amazon\\\\AWSCLI;C:\\\\Program Files (x86)\\\\Yarn\\\\bin;C:\\\\Users\\\\appveyor\\\\.dotnet\\\\tools;C:\\\\Users\\\\appveyor\\\\AppData\\\\Roaming\\\\npm;C:\\\\Users\\\\appveyor\\\\AppData\\\\Local\\\\Yarn\\\\bin;C:\\\\Program Files\\\\AppVeyor\\\\BuildAgent;C:\\\\blis\\\\lib;C:\\\\Program Files\\\\Git\\\\usr\\\\bin\\\\vendor_perl;C:\\\\Program Files\\\\Git\\\\usr\\\\bin\\\\core_perl;C:\\\\msys64\\\\mingw64\\\\bin\\\\', 'PATHEXT': '.COM;.EXE;.BAT;.CMD;.VBS;.VBE;.JS;.JSE;.WSF;.WSH;.MSC;.PY;.CPL', 'PKG_CONFIG_PATH': 'C:\\\\Program Files\\\\Git\\\\usr\\\\lib\\\\pkgconfig;C:\\\\Program Files\\\\Git\\\\usr\\\\share\\\\pkgconfig;C:\\\\Program Files\\\\Git\\\\lib\\\\pkgconfig', 'PROCESSOR_ARCHITECTURE': 'AMD64', 'PROCESSOR_IDENTIFIER': 'Intel64 Family 6 Model 63 Stepping 2, GenuineIntel', 'PROCESSOR_LEVEL': '6', 'PROCESSOR_REVISION': '3f02', 'PROGRAMFILES': 'C:\\\\Program Files', 'PROMPT': '$P$G', 'PS1': '\\\\[\\\\033]0;$TITLEPREFIX:$PWD\\\\007\\\\]\\\\n\\\\[\\\\033[32m\\\\]\\\\u@\\\\h \\\\[\\\\033[35m\\\\]$MSYSTEM \\\\[\\\\033[33m\\\\]\\\\w\\\\[\\\\033[36m\\\\]`__git_ps1`\\\\[\\\\033[0m\\\\]\\\\n$ ', 'PSMODULEPATH': 'C:\\\\Users\\\\appveyor\\\\Documents\\\\WindowsPowerShell\\\\Modules;C:\\\\Users\\\\appveyor\\\\Documents\\\\WindowsPowerShell\\\\Modules;C:\\\\Program Files\\\\WindowsPowerShell\\\\Modules;C:\\\\Windows\\\\system32\\\\WindowsPowerShell\\\\v1.0\\\\Modules;C:\\\\Program Files (x86)\\\\Microsoft SQL Server\\\\110\\\\Tools\\\\PowerShell\\\\Modules;C:\\\\Program Files (x86)\\\\Microsoft SQL Server\\\\120\\\\Tools\\\\PowerShell\\\\Modules;C:\\\\Program Files\\\\AppVeyor\\\\BuildAgent\\\\Modules;C:\\\\Program Files (x86)\\\\Microsoft SQL Server\\\\130\\\\Tools\\\\PowerShell\\\\Modules;C:\\\\Program Files (x86)\\\\AWS Tools\\\\PowerShell;C:\\\\Program Files (x86)\\\\Microsoft SDKs\\\\Azure\\\\PowerShell\\\\ResourceManager\\\\AzureResourceManager;C:\\\\Program Files (x86)\\\\Microsoft SDKs\\\\Azure\\\\PowerShell\\\\ServiceManagement;C:\\\\Program Files (x86)\\\\Microsoft SDKs\\\\Azure\\\\PowerShell\\\\Storage;C:\\\\Program Files (x86)\\\\Microsoft SQL Server\\\\140\\\\Tools\\\\PowerShell\\\\Modules;c:\\\\Program Files (x86)\\\\Microsoft SQL Server\\\\130\\\\Tools\\\\PowerShell\\\\Modules\\\\', 'PUBLIC': 'C:\\\\Users\\\\Public', 'PWD': 'C:/projects/cython-blis', 'PLATFORM': 'X64', 'PROGRAMDATA': 'C:\\\\ProgramData', 'PROGRAMFILES(X86)': 'C:\\\\Program Files (x86)', 'PROGRAMW6432': 'C:\\\\Program Files', 'RANLIB': 'echo', 'SESSIONNAME': 'Console', 'SHELL': 'C:\\\\Program Files\\\\Git\\\\usr\\\\bin\\\\bash.exe', 'SHLVL': '1', 'SYSTEMDRIVE': 'C:', 'SYSTEMROOT': 'C:\\\\windows', 'TEMP': 'C:\\\\Users\\\\appveyor\\\\AppData\\\\Local\\\\Temp\\\\1', 'TERM': 'cygwin', 'TMP': 'C:\\\\Users\\\\appveyor\\\\AppData\\\\Local\\\\Temp\\\\1', 'TMPDIR': 'C:\\\\Users\\\\appveyor\\\\AppData\\\\Local\\\\Temp\\\\1', 'UCRTVERSION': '10.0.18362.0', 'USERDOMAIN': 'APPVYR-WIN', 'USERDOMAIN_ROAMINGPROFILE': 'APPVYR-WIN', 'USERNAME': 'appveyor', 'USERPROFILE': 'C:\\\\Users\\\\appveyor', 'UNIVERSALCRTSDKDIR': 'C:\\\\Program Files (x86)\\\\Windows Kits\\\\10\\\\', 'VCINSTALLDIR': 'C:\\\\Program Files (x86)\\\\Microsoft Visual Studio 14.0\\\\VC\\\\', 'VS100COMNTOOLS': 'c:\\\\Program Files (x86)\\\\Microsoft Visual Studio 10.0\\\\Common7\\\\Tools\\\\', 'VS110COMNTOOLS': 'C:\\\\Program Files (x86)\\\\Microsoft Visual Studio 11.0\\\\Common7\\\\Tools\\\\', 'VS120COMNTOOLS': 'C:\\\\Program Files (x86)\\\\Microsoft Visual Studio 12.0\\\\Common7\\\\Tools\\\\', 'VS140COMNTOOLS': 'C:\\\\Program Files (x86)\\\\Microsoft Visual Studio 14.0\\\\Common7\\\\Tools\\\\', 'VS90COMNTOOLS': 'C:\\\\Program Files (x86)\\\\Microsoft Visual Studio 9.0\\\\Common7\\\\Tools\\\\', 'VSINSTALLDIR': 'C:\\\\Program Files (x86)\\\\Microsoft Visual Studio 14.0\\\\', 'VSSDK120INSTALL': 'C:\\\\Program Files (x86)\\\\Microsoft Visual Studio 12.0\\\\VSSDK\\\\', 'VSSDK140INSTALL': 'C:\\\\Program Files (x86)\\\\Microsoft Visual Studio 14.0\\\\VSSDK\\\\', 'VISUALSTUDIOVERSION': '14.0', 'WINDIR': 'C:\\\\windows', 'WIX': 'C:\\\\Program Files (x86)\\\\WiX Toolset v3.11\\\\', 'WINDOWSLIBPATH': 'C:\\\\Program Files (x86)\\\\Windows Kits\\\\10\\\\UnionMetadata;C:\\\\Program Files (x86)\\\\Windows Kits\\\\10\\\\References', 'WINDOWSSDKLIBVERSION': '10.0.18362.0\\\\', 'WINDOWSSDKVERSION': '10.0.18362.0\\\\', 'WINDOWSSDK_EXECUTABLEPATH_X64': 'C:\\\\Program Files (x86)\\\\Microsoft SDKs\\\\Windows\\\\v10.0A\\\\bin\\\\NETFX 4.6.1 Tools\\\\x64\\\\', 'WINDOWSSDK_EXECUTABLEPATH_X86': 'C:\\\\Program Files (x86)\\\\Microsoft SDKs\\\\Windows\\\\v10.0A\\\\bin\\\\NETFX 4.6.1 Tools\\\\', 'WINDOWSSDKDIR': 'C:\\\\Program Files (x86)\\\\Windows Kits\\\\10\\\\', '_': 'C:/msys64/mingw64/bin/python', 'LASTEXITCODE': '0', 'XUNIT20': 'C:\\\\Tools\\\\xUnit20'}\n",
      "      [COMMAND] C:\\Program Files\\LLVM\\bin\\clang.exe -c C:\\Users\\Jul\\AppData\\Local\\Temp\\pip-install-huo50ujc\\blis\\blis\\_src\\config\\bulldozer\\bli_cntx_init_bulldozer.c -o C:\\Users\\Jul\\AppData\\Local\\Temp\\tmphjpstdnf\\bli_cntx_init_bulldozer.o -O3 -std=c99 -D_POSIX_C_SOURCE=200112L -DBLIS_VERSION_STRING=\"0.7.0\" -DBLIS_IS_BUILDING_LIBRARY -Iinclude\\windows-x86_64 -I.\\frame\\3\\ -I.\\frame\\ind\\ukernels\\ -I.\\frame\\3\\ -I.\\frame\\1m\\ -I.\\frame\\1f\\ -I.\\frame\\1\\ -I.\\frame\\include -IC:\\Users\\Jul\\AppData\\Local\\Temp\\pip-install-huo50ujc\\blis\\blis\\_src\\include\\windows-x86_64\n",
      "      error: [WinError 2] The system cannot find the file specified\n",
      "      ----------------------------------------\n",
      "      ERROR: Failed building wheel for blis\n",
      "    Failed to build blis\n",
      "    ERROR: Could not build wheels for blis which use PEP 517 and cannot be installed directly\n",
      "    ----------------------------------------\n",
      "  ERROR: Command errored out with exit status 1: 'C:\\Users\\Jul\\anaconda3\\python.exe' 'C:\\Users\\Jul\\anaconda3\\lib\\site-packages\\pip' install --ignore-installed --no-user --prefix 'C:\\Users\\Jul\\AppData\\Local\\Temp\\pip-build-env-ah5_4yhp\\overlay' --no-warn-script-location --no-binary :none: --only-binary :none: -i https://pypi.org/simple -- setuptools 'cython>=0.25,<3.0' 'murmurhash>=0.28.0,<1.1.0' 'cymem>=2.0.2,<2.1.0' 'preshed>=3.0.2,<3.1.0' 'blis>=0.4.0,<0.8.0' 'numpy>=1.15.0' Check the logs for full command output.\n",
      "  ----------------------------------------\n",
      "ERROR: Command errored out with exit status 1: 'C:\\Users\\Jul\\anaconda3\\python.exe' 'C:\\Users\\Jul\\anaconda3\\lib\\site-packages\\pip' install --ignore-installed --no-user --prefix 'C:\\Users\\Jul\\AppData\\Local\\Temp\\pip-build-env-0gt082jj\\overlay' --no-warn-script-location --no-binary :none: --only-binary :none: -i https://pypi.org/simple -- setuptools 'cython>=0.25,<3.0' 'cymem>=2.0.2,<2.1.0' 'preshed>=3.0.2,<3.1.0' 'murmurhash>=0.28.0,<1.1.0' 'thinc>=8.0.12,<8.1.0' 'blis>=0.4.0,<0.8.0' pathy 'numpy>=1.15.0' Check the logs for full command output.\n"
     ]
    },
    {
     "name": "stdout",
     "output_type": "stream",
     "text": [
      "Collecting spacy\n",
      "  Using cached spacy-3.2.1.tar.gz (1.1 MB)\n",
      "  Installing build dependencies: started\n",
      "  Installing build dependencies: still running...\n",
      "  Installing build dependencies: finished with status 'error'\n"
     ]
    },
    {
     "name": "stderr",
     "output_type": "stream",
     "text": [
      "  ERROR: Command errored out with exit status 1:\n",
      "   command: 'C:\\Users\\Jul\\anaconda3\\python.exe' 'C:\\Users\\Jul\\anaconda3\\lib\\site-packages\\pip' install --ignore-installed --no-user --prefix 'C:\\Users\\Jul\\AppData\\Local\\Temp\\pip-build-env-qly41v9t\\overlay' --no-warn-script-location --no-binary :none: --only-binary :none: -i https://pypi.org/simple -- setuptools 'cython>=0.25,<3.0' 'cymem>=2.0.2,<2.1.0' 'preshed>=3.0.2,<3.1.0' 'murmurhash>=0.28.0,<1.1.0' 'thinc>=8.0.12,<8.1.0' 'blis>=0.4.0,<0.8.0' pathy 'numpy>=1.15.0'\n",
      "       cwd: None\n",
      "  Complete output (72 lines):\n",
      "  Collecting setuptools\n",
      "    Using cached setuptools-60.1.0-py3-none-any.whl (952 kB)\n",
      "  Collecting cython<3.0,>=0.25\n",
      "    Using cached Cython-0.29.26-py2.py3-none-any.whl (983 kB)\n",
      "  Processing c:\\users\\jul\\appdata\\local\\pip\\cache\\wheels\\dc\\14\\11\\b387cd7ff8f6ad36b7b939ff70f877b26db1e0d89989198016\\cymem-2.0.6-cp38-cp38-win32.whl\n",
      "  Processing c:\\users\\jul\\appdata\\local\\pip\\cache\\wheels\\ca\\6f\\62\\3333a713bb0da1494bad55609b143e4590d6722e4abbef9614\\preshed-3.0.6-cp38-cp38-win32.whl\n",
      "  Processing c:\\users\\jul\\appdata\\local\\pip\\cache\\wheels\\92\\80\\da\\967774a45670798684178c8cc7cef804d239d94a3e90cd7bee\\murmurhash-1.0.6-cp38-cp38-win32.whl\n",
      "  Collecting thinc<8.1.0,>=8.0.12\n",
      "    Using cached thinc-8.0.13.tar.gz (175 kB)\n",
      "    Installing build dependencies: started\n",
      "    Installing build dependencies: finished with status 'error'\n",
      "    ERROR: Command errored out with exit status 1:\n",
      "     command: 'C:\\Users\\Jul\\anaconda3\\python.exe' 'C:\\Users\\Jul\\anaconda3\\lib\\site-packages\\pip' install --ignore-installed --no-user --prefix 'C:\\Users\\Jul\\AppData\\Local\\Temp\\pip-build-env-cyq8f2gd\\overlay' --no-warn-script-location --no-binary :none: --only-binary :none: -i https://pypi.org/simple -- setuptools 'cython>=0.25,<3.0' 'murmurhash>=0.28.0,<1.1.0' 'cymem>=2.0.2,<2.1.0' 'preshed>=3.0.2,<3.1.0' 'blis>=0.4.0,<0.8.0' 'numpy>=1.15.0'\n",
      "         cwd: None\n",
      "    Complete output (55 lines):\n",
      "    Collecting setuptools\n",
      "      Using cached setuptools-60.1.0-py3-none-any.whl (952 kB)\n",
      "    Collecting cython<3.0,>=0.25\n",
      "      Using cached Cython-0.29.26-py2.py3-none-any.whl (983 kB)\n",
      "    Processing c:\\users\\jul\\appdata\\local\\pip\\cache\\wheels\\92\\80\\da\\967774a45670798684178c8cc7cef804d239d94a3e90cd7bee\\murmurhash-1.0.6-cp38-cp38-win32.whl\n",
      "    Processing c:\\users\\jul\\appdata\\local\\pip\\cache\\wheels\\dc\\14\\11\\b387cd7ff8f6ad36b7b939ff70f877b26db1e0d89989198016\\cymem-2.0.6-cp38-cp38-win32.whl\n",
      "    Processing c:\\users\\jul\\appdata\\local\\pip\\cache\\wheels\\ca\\6f\\62\\3333a713bb0da1494bad55609b143e4590d6722e4abbef9614\\preshed-3.0.6-cp38-cp38-win32.whl\n",
      "    Collecting blis<0.8.0,>=0.4.0\n",
      "      Using cached blis-0.7.5.tar.gz (2.8 MB)\n",
      "      Installing build dependencies: started\n",
      "      Installing build dependencies: finished with status 'done'\n",
      "      Getting requirements to build wheel: started\n",
      "      Getting requirements to build wheel: finished with status 'done'\n",
      "      Installing backend dependencies: started\n",
      "      Installing backend dependencies: finished with status 'done'\n",
      "        Preparing wheel metadata: started\n",
      "        Preparing wheel metadata: finished with status 'done'\n",
      "    Collecting numpy>=1.15.0\n",
      "      Using cached numpy-1.21.5-cp38-cp38-win32.whl (11.7 MB)\n",
      "    Building wheels for collected packages: blis\n",
      "      Building wheel for blis (PEP 517): started\n",
      "      Building wheel for blis (PEP 517): finished with status 'error'\n",
      "      ERROR: Command errored out with exit status 1:\n",
      "       command: 'C:\\Users\\Jul\\anaconda3\\python.exe' 'C:\\Users\\Jul\\anaconda3\\lib\\site-packages\\pip\\_vendor\\pep517\\_in_process.py' build_wheel 'C:\\Users\\Jul\\AppData\\Local\\Temp\\tmp1ituf1p_'\n",
      "           cwd: C:\\Users\\Jul\\AppData\\Local\\Temp\\pip-install-0vn_7kq_\\blis\n",
      "      Complete output (25 lines):\n",
      "      BLIS_COMPILER? None\n",
      "      running bdist_wheel\n",
      "      running build\n",
      "      running build_py\n",
      "      creating build\n",
      "      creating build\\lib.win32-3.8\n",
      "      creating build\\lib.win32-3.8\\blis\n",
      "      copying blis\\about.py -> build\\lib.win32-3.8\\blis\n",
      "      copying blis\\benchmark.py -> build\\lib.win32-3.8\\blis\n",
      "      copying blis\\__init__.py -> build\\lib.win32-3.8\\blis\n",
      "      creating build\\lib.win32-3.8\\blis\\tests\n",
      "      copying blis\\tests\\common.py -> build\\lib.win32-3.8\\blis\\tests\n",
      "      copying blis\\tests\\test_dotv.py -> build\\lib.win32-3.8\\blis\\tests\n",
      "      copying blis\\tests\\test_gemm.py -> build\\lib.win32-3.8\\blis\\tests\n",
      "      copying blis\\tests\\__init__.py -> build\\lib.win32-3.8\\blis\\tests\n",
      "      copying blis\\cy.pyx -> build\\lib.win32-3.8\\blis\n",
      "      copying blis\\py.pyx -> build\\lib.win32-3.8\\blis\n",
      "      copying blis\\cy.pxd -> build\\lib.win32-3.8\\blis\n",
      "      copying blis\\__init__.pxd -> build\\lib.win32-3.8\\blis\n",
      "      running build_ext\n",
      "      Build options win32 msvc\n",
      "      BUILD ARCH: x86_64\n",
      "      {'7ZIP': '\"C:\\\\Program Files\\\\7-Zip\\\\7z.exe\"', 'ALLUSERSPROFILE': 'C:\\\\ProgramData', 'APPDATA': 'C:\\\\Users\\\\appveyor\\\\AppData\\\\Roaming', 'APPVEYOR': 'True', 'APPVEYOR_ACCOUNT_NAME': 'honnibal', 'APPVEYOR_API_URL': 'http://localhost:1033/', 'APPVEYOR_BUILD_AGENT_HYPERV_NIC_CONFIGURED': 'true', 'APPVEYOR_BUILD_FOLDER': 'C:\\\\projects\\\\cython-blis-h674r', 'APPVEYOR_BUILD_ID': '34663432', 'APPVEYOR_BUILD_NUMBER': '555', 'APPVEYOR_BUILD_VERSION': '1.0.555', 'APPVEYOR_BUILD_WORKER_IMAGE': 'Visual Studio 2015', 'APPVEYOR_FORCED_BUILD': 'True', 'APPVEYOR_JOB_ID': 'ru8t2iw8ko4nlym1', 'APPVEYOR_JOB_NUMBER': '1', 'APPVEYOR_PROJECT_ID': '484208', 'APPVEYOR_PROJECT_NAME': 'cython-blis', 'APPVEYOR_PROJECT_SLUG': 'cython-blis-h674r', 'APPVEYOR_REPO_BRANCH': 'blis-0.7.0', 'APPVEYOR_REPO_COMMIT': 'ebf2df4deeb6587430c1f1e841f2249b28f185a2', 'APPVEYOR_REPO_COMMIT_AUTHOR': 'Matthew Honnibal', 'APPVEYOR_REPO_COMMIT_AUTHOR_EMAIL': 'honnibal+gh@gmail.com', 'APPVEYOR_REPO_COMMIT_MESSAGE': 'Update appveyor', 'APPVEYOR_REPO_COMMIT_TIMESTAMP': '2020-08-14T16:32:14.0000000Z', 'APPVEYOR_REPO_NAME': 'explosion/cython-blis', 'APPVEYOR_REPO_PROVIDER': 'gitHub', 'APPVEYOR_REPO_SCM': 'git', 'APPVEYOR_REPO_TAG': 'false', 'APPVEYOR_URL': 'https://ci.appveyor.com', 'APR_ICONV_PATH': 'C:\\\\Program Files (x86)\\\\Subversion\\\\iconv', 'AR': 'llvm-ar', 'AS': 'llvm-as', 'AVVM_DOWNLOAD_URL': 'https://appveyordownloads.blob.core.windows.net/avvm', 'CC': 'clang', 'CFLAGS': '-Wno-macro-redefined', 'CI': 'True', 'CI_LINUX': 'False', 'CI_WINDOWS': 'True', 'COMMONPROGRAMFILES': 'C:\\\\Program Files\\\\Common Files', 'COMPUTERNAME': 'APPVYR-WIN', 'COMSPEC': 'C:\\\\windows\\\\system32\\\\cmd.exe', 'CONFIG_SITE': 'C:/Program Files/Git/etc/config.site', 'CHOCOLATEYINSTALL': 'C:\\\\ProgramData\\\\chocolatey', 'CHOCOLATEYLASTPATHUPDATE': '132085537502579915', 'CODECONTRACTSINSTALLDIR': 'C:\\\\Program Files (x86)\\\\Microsoft\\\\Contracts\\\\', 'COMMANDPROMPTTYPE': 'Native', 'COMMONPROGRAMFILES(X86)': 'C:\\\\Program Files (x86)\\\\Common Files', 'COMMONPROGRAMW6432': 'C:\\\\Program Files\\\\Common Files', 'DXSDK_DIR': 'C:\\\\Program Files (x86)\\\\Microsoft DirectX SDK (June 2010)\\\\', 'ERLANG_HOME': 'C:\\\\Program Files\\\\erl9.2', 'ENABLENUGETPACKAGERESTORE': 'true', 'EXTENSIONSDKDIR': 'C:\\\\Program Files (x86)\\\\Microsoft SDKs\\\\Windows Kits\\\\10\\\\ExtensionSDKs', 'FP_NO_HOST_CHECK': 'NO', 'FSHARPINSTALLDIR': 'C:\\\\Program Files (x86)\\\\Microsoft SDKs\\\\F#\\\\4.0\\\\Framework\\\\v4.0\\\\', 'FRAMEWORK40VERSION': 'v4.0', 'FRAMEWORKDIR64': 'c:\\\\Windows\\\\Microsoft.NET\\\\Framework64', 'FRAMEWORKDIR': 'c:\\\\Windows\\\\Microsoft.NET\\\\Framework64', 'FRAMEWORKVERSION64': 'v4.0.30319', 'FRAMEWORKVERSION': 'v4.0.30319', 'GIT_LFS_PATH': 'C:\\\\Program Files\\\\Git LFS', 'GOROOT': 'C:\\\\go', 'HOME': 'C:\\\\Users\\\\appveyor', 'HOMEDRIVE': 'C:', 'HOMEPATH': '\\\\Users\\\\appveyor', 'HOSTNAME': 'APPVYR-WIN', 'INCLUDE': 'C:\\\\Program Files (x86)\\\\Microsoft Visual Studio 14.0\\\\VC\\\\INCLUDE;C:\\\\Program Files (x86)\\\\Microsoft Visual Studio 14.0\\\\VC\\\\ATLMFC\\\\INCLUDE;C:\\\\Program Files (x86)\\\\Windows Kits\\\\10\\\\include\\\\10.0.18362.0\\\\ucrt;C:\\\\Program Files (x86)\\\\Windows Kits\\\\NETFXSDK\\\\4.6.1\\\\include\\\\um;C:\\\\Program Files (x86)\\\\Windows Kits\\\\10\\\\include\\\\10.0.18362.0\\\\shared;C:\\\\Program Files (x86)\\\\Windows Kits\\\\10\\\\include\\\\10.0.18362.0\\\\um;C:\\\\Program Files (x86)\\\\Windows Kits\\\\10\\\\include\\\\10.0.18362.0\\\\winrt;', 'INFOPATH': 'C:\\\\Program Files\\\\Git\\\\usr\\\\local\\\\info;C:\\\\Program Files\\\\Git\\\\usr\\\\share\\\\info;C:\\\\Program Files\\\\Git\\\\usr\\\\info;C:\\\\Program Files\\\\Git\\\\share\\\\info', 'JAVA_HOME': 'C:\\\\Progra~1\\\\Java\\\\jdk1.8.0', 'LANG': 'en_US.UTF-8', 'LIB': 'C:\\\\Program Files (x86)\\\\Microsoft Visual Studio 14.0\\\\VC\\\\LIB\\\\amd64;C:\\\\Program Files (x86)\\\\Microsoft Visual Studio 14.0\\\\VC\\\\ATLMFC\\\\LIB\\\\amd64;C:\\\\Program Files (x86)\\\\Windows Kits\\\\10\\\\lib\\\\10.0.18362.0\\\\ucrt\\\\x64;C:\\\\Program Files (x86)\\\\Windows Kits\\\\NETFXSDK\\\\4.6.1\\\\lib\\\\um\\\\x64;C:\\\\Program Files (x86)\\\\Windows Kits\\\\10\\\\lib\\\\10.0.18362.0\\\\um\\\\x64;', 'LIBPATH': 'c:\\\\Windows\\\\Microsoft.NET\\\\Framework64\\\\v4.0.30319;C:\\\\Program Files (x86)\\\\Microsoft Visual Studio 14.0\\\\VC\\\\LIB\\\\amd64;C:\\\\Program Files (x86)\\\\Microsoft Visual Studio 14.0\\\\VC\\\\ATLMFC\\\\LIB\\\\amd64;C:\\\\Program Files (x86)\\\\Windows Kits\\\\10\\\\UnionMetadata;C:\\\\Program Files (x86)\\\\Windows Kits\\\\10\\\\References;C:\\\\Program Files (x86)\\\\Microsoft SDKs\\\\Windows Kits\\\\10\\\\ExtensionSDKs\\\\Microsoft.VCLibs\\\\14.0\\\\References\\\\CommonConfiguration\\\\neutral;', 'LOCALAPPDATA': 'C:\\\\Users\\\\appveyor\\\\AppData\\\\Local', 'LOGONSERVER': '\\\\\\\\APPVYR-WIN', 'M2_HOME': 'C:\\\\Program Files (x86)\\\\Apache\\\\Maven', 'MANPATH': 'C:\\\\Program Files\\\\Git\\\\usr\\\\local\\\\man;C:\\\\Program Files\\\\Git\\\\usr\\\\share\\\\man;C:\\\\Program Files\\\\Git\\\\usr\\\\man;C:\\\\Program Files\\\\Git\\\\share\\\\man', 'MAVEN_HOME': 'C:\\\\Program Files (x86)\\\\Apache\\\\Maven', 'MSYS2_PATH_TYPE': 'inherit', 'MSYSTEM': 'MSYS', 'MSYSTEM_CARCH': 'x86_64', 'MSYSTEM_CHOST': 'x86_64-pc-msys', 'MSYSTEM_PREFIX': 'C:/Program Files/Git/usr', 'NETFXSDKDIR': 'C:\\\\Program Files (x86)\\\\Windows Kits\\\\NETFXSDK\\\\4.6.1\\\\', 'NUMBER_OF_PROCESSORS': '2', 'OLDPWD': 'C:/projects/cython-blis-h674r/flame-blis', 'OPENSSL_CONF': 'C:\\\\OpenSSL-Win32\\\\bin\\\\openssl.cfg', 'ORIGINAL_PATH': 'C:\\\\Program Files (x86)\\\\Microsoft Visual Studio 14.0\\\\Common7\\\\IDE\\\\CommonExtensions\\\\Microsoft\\\\TestWindow;C:\\\\Program Files (x86)\\\\MSBuild\\\\14.0\\\\bin\\\\amd64;C:\\\\Program Files (x86)\\\\Microsoft Visual Studio 14.0\\\\VC\\\\BIN\\\\amd64;C:\\\\Windows\\\\Microsoft.NET\\\\Framework64\\\\v4.0.30319;C:\\\\Program Files (x86)\\\\Microsoft Visual Studio 14.0\\\\VC\\\\VCPackages;C:\\\\Program Files (x86)\\\\Microsoft Visual Studio 14.0\\\\Common7\\\\IDE;C:\\\\Program Files (x86)\\\\Microsoft Visual Studio 14.0\\\\Common7\\\\Tools;C:\\\\Program Files (x86)\\\\HTML Help Workshop;C:\\\\Program Files (x86)\\\\Microsoft Visual Studio 14.0\\\\Team Tools\\\\Performance Tools\\\\x64;C:\\\\Program Files (x86)\\\\Microsoft Visual Studio 14.0\\\\Team Tools\\\\Performance Tools;C:\\\\Program Files (x86)\\\\Windows Kits\\\\10\\\\bin\\\\x64;C:\\\\Program Files (x86)\\\\Windows Kits\\\\10\\\\bin\\\\x86;C:\\\\Program Files (x86)\\\\Microsoft SDKs\\\\Windows\\\\v10.0A\\\\bin\\\\NETFX 4.6.1 Tools\\\\x64;C:\\\\Program Files\\\\LLVM\\\\bin;C:\\\\msys64\\\\mingw64\\\\bin;C:\\\\msys64\\\\bin;C:\\\\Program Files (x86)\\\\Microsoft SDKs\\\\Azure\\\\CLI2\\\\wbin;C:\\\\Perl\\\\site\\\\bin;C:\\\\Perl\\\\bin;C:\\\\Windows\\\\system32;C:\\\\Windows;C:\\\\Windows\\\\System32\\\\Wbem;C:\\\\Windows\\\\System32\\\\WindowsPowerShell\\\\v1.0;C:\\\\Program Files\\\\7-Zip;C:\\\\Program Files\\\\Microsoft\\\\Web Platform Installer;C:\\\\Tools\\\\GitVersion;C:\\\\Tools\\\\PsTools;C:\\\\Program Files\\\\Git LFS;C:\\\\Program Files (x86)\\\\Subversion\\\\bin;C:\\\\Program Files\\\\Microsoft SQL Server\\\\120\\\\Tools\\\\Binn;C:\\\\Program Files\\\\Microsoft SQL Server\\\\Client SDK\\\\ODBC\\\\110\\\\Tools\\\\Binn;C:\\\\Program Files (x86)\\\\Microsoft SQL Server\\\\120\\\\Tools\\\\Binn;C:\\\\Program Files\\\\Microsoft SQL Server\\\\120\\\\DTS\\\\Binn;C:\\\\Program Files (x86)\\\\Microsoft SQL Server\\\\120\\\\Tools\\\\Binn\\\\ManagementStudio;C:\\\\Tools\\\\WebDriver;C:\\\\Program Files (x86)\\\\Microsoft SDKs\\\\TypeScript\\\\1.4;C:\\\\Program Files (x86)\\\\Microsoft Visual Studio 12.0\\\\Common7\\\\IDE\\\\PrivateAssemblies;C:\\\\Program Files (x86)\\\\Microsoft SDKs\\\\Azure\\\\CLI\\\\wbin;C:\\\\Ruby193\\\\bin;C:\\\\Tools\\\\NUnit\\\\bin;C:\\\\Tools\\\\xUnit;C:\\\\Tools\\\\MSpec;C:\\\\Tools\\\\Coverity\\\\bin;C:\\\\Program Files (x86)\\\\CMake\\\\bin;C:\\\\go\\\\bin;C:\\\\Program Files\\\\Java\\\\jdk1.8.0\\\\bin;C:\\\\Python27;C:\\\\Program Files\\\\nodejs;C:\\\\Program Files (x86)\\\\iojs;C:\\\\Program Files\\\\iojs;C:\\\\Program Files\\\\Microsoft SQL Server\\\\130\\\\Tools\\\\Binn;C:\\\\Program Files (x86)\\\\MSBuild\\\\14.0\\\\Bin;C:\\\\Tools\\\\NuGet;C:\\\\Program Files (x86)\\\\Microsoft Visual Studio 14.0\\\\Common7\\\\IDE\\\\CommonExtensions\\\\Microsoft\\\\TestWindow;C:\\\\Program Files\\\\Microsoft DNX\\\\Dnvm;C:\\\\Program Files\\\\Microsoft SQL Server\\\\Client SDK\\\\ODBC\\\\130\\\\Tools\\\\Binn;C:\\\\Program Files (x86)\\\\Microsoft SQL Server\\\\130\\\\Tools\\\\Binn;C:\\\\Program Files (x86)\\\\Microsoft SQL Server\\\\130\\\\DTS\\\\Binn;C:\\\\Program Files\\\\Microsoft SQL Server\\\\130\\\\DTS\\\\Binn;C:\\\\Program Files (x86)\\\\Microsoft SQL Server\\\\110\\\\DTS\\\\Binn;C:\\\\Program Files (x86)\\\\Microsoft SQL Server\\\\120\\\\DTS\\\\Binn;C:\\\\Program Files (x86)\\\\Apache\\\\Maven\\\\bin;C:\\\\Python27\\\\Scripts;C:\\\\Tools\\\\NUnit3;C:\\\\Program Files\\\\Mercurial;C:\\\\Program Files\\\\dotnet;C:\\\\Tools\\\\curl\\\\bin;C:\\\\Program Files (x86)\\\\Microsoft SQL Server\\\\140\\\\DTS\\\\Binn;C:\\\\Program Files (x86)\\\\Microsoft Visual Studio 14.0\\\\Common7\\\\IDE\\\\Extensions\\\\Microsoft\\\\SQLDB\\\\DAC\\\\140;C:\\\\Tools\\\\vcpkg;C:\\\\Program Files (x86)\\\\Microsoft SQL Server\\\\140\\\\Tools\\\\Binn;C:\\\\Program Files\\\\Microsoft SQL Server\\\\140\\\\Tools\\\\Binn;C:\\\\Program Files\\\\Microsoft SQL Server\\\\140\\\\DTS\\\\Binn;C:\\\\Program Files\\\\erl9.2\\\\bin;C:\\\\Program Files (x86)\\\\NSIS;C:\\\\Tools\\\\Octopus;C:\\\\Program Files\\\\Microsoft Service Fabric\\\\bin\\\\Fabric\\\\Fabric.Code;C:\\\\Program Files\\\\Microsoft SDKs\\\\Service Fabric\\\\Tools\\\\ServiceFabricLocalClusterManager;C:\\\\Program Files\\\\LLVM\\\\bin;C:\\\\Users\\\\appveyor\\\\AppData\\\\Roaming\\\\npm;C:\\\\Program Files (x86)\\\\Windows Kits\\\\10\\\\Windows Performance Toolkit;C:\\\\Program Files\\\\PowerShell\\\\6;C:\\\\Program Files (x86)\\\\nodejs;C:\\\\Program Files\\\\Git\\\\cmd;C:\\\\Program Files\\\\Git\\\\usr\\\\bin;C:\\\\Program Files\\\\Meson;C:\\\\ProgramData\\\\chocolatey\\\\bin;C:\\\\Program Files\\\\Amazon\\\\AWSCLI;C:\\\\Program Files (x86)\\\\Yarn\\\\bin;C:\\\\Users\\\\appveyor\\\\.dotnet\\\\tools;C:\\\\Users\\\\appveyor\\\\AppData\\\\Roaming\\\\npm;C:\\\\Users\\\\appveyor\\\\AppData\\\\Local\\\\Yarn\\\\bin;C:\\\\Program Files\\\\AppVeyor\\\\BuildAgent;C:\\\\blis\\\\lib', 'ORIGINAL_TEMP': 'C:/Users/appveyor/AppData/Local/Temp/1', 'ORIGINAL_TMP': 'C:/Users/appveyor/AppData/Local/Temp/1', 'OS': 'Windows_NT', 'PATH': 'C:\\\\Users\\\\appveyor\\\\bin;C:\\\\Program Files\\\\Git\\\\usr\\\\local\\\\bin;C:\\\\Program Files\\\\Git\\\\usr\\\\bin;C:\\\\Program Files\\\\Git\\\\usr\\\\bin;C:\\\\Program Files\\\\Git\\\\opt\\\\bin;C:\\\\Program Files (x86)\\\\Microsoft Visual Studio 14.0\\\\Common7\\\\IDE\\\\CommonExtensions\\\\Microsoft\\\\TestWindow;C:\\\\Program Files (x86)\\\\MSBuild\\\\14.0\\\\bin\\\\amd64;C:\\\\Program Files (x86)\\\\Microsoft Visual Studio 14.0\\\\VC\\\\BIN\\\\amd64;C:\\\\Windows\\\\Microsoft.NET\\\\Framework64\\\\v4.0.30319;C:\\\\Program Files (x86)\\\\Microsoft Visual Studio 14.0\\\\VC\\\\VCPackages;C:\\\\Program Files (x86)\\\\Microsoft Visual Studio 14.0\\\\Common7\\\\IDE;C:\\\\Program Files (x86)\\\\Microsoft Visual Studio 14.0\\\\Common7\\\\Tools;C:\\\\Program Files (x86)\\\\HTML Help Workshop;C:\\\\Program Files (x86)\\\\Microsoft Visual Studio 14.0\\\\Team Tools\\\\Performance Tools\\\\x64;C:\\\\Program Files (x86)\\\\Microsoft Visual Studio 14.0\\\\Team Tools\\\\Performance Tools;C:\\\\Program Files (x86)\\\\Windows Kits\\\\10\\\\bin\\\\x64;C:\\\\Program Files (x86)\\\\Windows Kits\\\\10\\\\bin\\\\x86;C:\\\\Program Files (x86)\\\\Microsoft SDKs\\\\Windows\\\\v10.0A\\\\bin\\\\NETFX 4.6.1 Tools\\\\x64;C:\\\\Program Files\\\\LLVM\\\\bin;C:\\\\msys64\\\\mingw64\\\\bin;C:\\\\msys64\\\\bin;C:\\\\Program Files (x86)\\\\Microsoft SDKs\\\\Azure\\\\CLI2\\\\wbin;C:\\\\Perl\\\\site\\\\bin;C:\\\\Perl\\\\bin;C:\\\\Windows\\\\system32;C:\\\\Windows;C:\\\\Windows\\\\System32\\\\Wbem;C:\\\\Windows\\\\System32\\\\WindowsPowerShell\\\\v1.0;C:\\\\Program Files\\\\7-Zip;C:\\\\Program Files\\\\Microsoft\\\\Web Platform Installer;C:\\\\Tools\\\\GitVersion;C:\\\\Tools\\\\PsTools;C:\\\\Program Files\\\\Git LFS;C:\\\\Program Files (x86)\\\\Subversion\\\\bin;C:\\\\Program Files\\\\Microsoft SQL Server\\\\120\\\\Tools\\\\Binn;C:\\\\Program Files\\\\Microsoft SQL Server\\\\Client SDK\\\\ODBC\\\\110\\\\Tools\\\\Binn;C:\\\\Program Files (x86)\\\\Microsoft SQL Server\\\\120\\\\Tools\\\\Binn;C:\\\\Program Files\\\\Microsoft SQL Server\\\\120\\\\DTS\\\\Binn;C:\\\\Program Files (x86)\\\\Microsoft SQL Server\\\\120\\\\Tools\\\\Binn\\\\ManagementStudio;C:\\\\Tools\\\\WebDriver;C:\\\\Program Files (x86)\\\\Microsoft SDKs\\\\TypeScript\\\\1.4;C:\\\\Program Files (x86)\\\\Microsoft Visual Studio 12.0\\\\Common7\\\\IDE\\\\PrivateAssemblies;C:\\\\Program Files (x86)\\\\Microsoft SDKs\\\\Azure\\\\CLI\\\\wbin;C:\\\\Ruby193\\\\bin;C:\\\\Tools\\\\NUnit\\\\bin;C:\\\\Tools\\\\xUnit;C:\\\\Tools\\\\MSpec;C:\\\\Tools\\\\Coverity\\\\bin;C:\\\\Program Files (x86)\\\\CMake\\\\bin;C:\\\\go\\\\bin;C:\\\\Program Files\\\\Java\\\\jdk1.8.0\\\\bin;C:\\\\Python27;C:\\\\Program Files\\\\nodejs;C:\\\\Program Files (x86)\\\\iojs;C:\\\\Program Files\\\\iojs;C:\\\\Program Files\\\\Microsoft SQL Server\\\\130\\\\Tools\\\\Binn;C:\\\\Program Files (x86)\\\\MSBuild\\\\14.0\\\\Bin;C:\\\\Tools\\\\NuGet;C:\\\\Program Files (x86)\\\\Microsoft Visual Studio 14.0\\\\Common7\\\\IDE\\\\CommonExtensions\\\\Microsoft\\\\TestWindow;C:\\\\Program Files\\\\Microsoft DNX\\\\Dnvm;C:\\\\Program Files\\\\Microsoft SQL Server\\\\Client SDK\\\\ODBC\\\\130\\\\Tools\\\\Binn;C:\\\\Program Files (x86)\\\\Microsoft SQL Server\\\\130\\\\Tools\\\\Binn;C:\\\\Program Files (x86)\\\\Microsoft SQL Server\\\\130\\\\DTS\\\\Binn;C:\\\\Program Files\\\\Microsoft SQL Server\\\\130\\\\DTS\\\\Binn;C:\\\\Program Files (x86)\\\\Microsoft SQL Server\\\\110\\\\DTS\\\\Binn;C:\\\\Program Files (x86)\\\\Microsoft SQL Server\\\\120\\\\DTS\\\\Binn;C:\\\\Program Files (x86)\\\\Apache\\\\Maven\\\\bin;C:\\\\Python27\\\\Scripts;C:\\\\Tools\\\\NUnit3;C:\\\\Program Files\\\\Mercurial;C:\\\\Program Files\\\\dotnet;C:\\\\Tools\\\\curl\\\\bin;C:\\\\Program Files (x86)\\\\Microsoft SQL Server\\\\140\\\\DTS\\\\Binn;C:\\\\Program Files (x86)\\\\Microsoft Visual Studio 14.0\\\\Common7\\\\IDE\\\\Extensions\\\\Microsoft\\\\SQLDB\\\\DAC\\\\140;C:\\\\Tools\\\\vcpkg;C:\\\\Program Files (x86)\\\\Microsoft SQL Server\\\\140\\\\Tools\\\\Binn;C:\\\\Program Files\\\\Microsoft SQL Server\\\\140\\\\Tools\\\\Binn;C:\\\\Program Files\\\\Microsoft SQL Server\\\\140\\\\DTS\\\\Binn;C:\\\\Program Files\\\\erl9.2\\\\bin;C:\\\\Program Files (x86)\\\\NSIS;C:\\\\Tools\\\\Octopus;C:\\\\Program Files\\\\Microsoft Service Fabric\\\\bin\\\\Fabric\\\\Fabric.Code;C:\\\\Program Files\\\\Microsoft SDKs\\\\Service Fabric\\\\Tools\\\\ServiceFabricLocalClusterManager;C:\\\\Program Files\\\\LLVM\\\\bin;C:\\\\Users\\\\appveyor\\\\AppData\\\\Roaming\\\\npm;C:\\\\Program Files (x86)\\\\Windows Kits\\\\10\\\\Windows Performance Toolkit;C:\\\\Program Files\\\\PowerShell\\\\6;C:\\\\Program Files (x86)\\\\nodejs;C:\\\\Program Files\\\\Git\\\\cmd;C:\\\\Program Files\\\\Git\\\\usr\\\\bin;C:\\\\Program Files\\\\Meson;C:\\\\ProgramData\\\\chocolatey\\\\bin;C:\\\\Program Files\\\\Amazon\\\\AWSCLI;C:\\\\Program Files (x86)\\\\Yarn\\\\bin;C:\\\\Users\\\\appveyor\\\\.dotnet\\\\tools;C:\\\\Users\\\\appveyor\\\\AppData\\\\Roaming\\\\npm;C:\\\\Users\\\\appveyor\\\\AppData\\\\Local\\\\Yarn\\\\bin;C:\\\\Program Files\\\\AppVeyor\\\\BuildAgent;C:\\\\blis\\\\lib;C:\\\\Program Files\\\\Git\\\\usr\\\\bin\\\\vendor_perl;C:\\\\Program Files\\\\Git\\\\usr\\\\bin\\\\core_perl;C:\\\\msys64\\\\mingw64\\\\bin\\\\', 'PATHEXT': '.COM;.EXE;.BAT;.CMD;.VBS;.VBE;.JS;.JSE;.WSF;.WSH;.MSC;.PY;.CPL', 'PKG_CONFIG_PATH': 'C:\\\\Program Files\\\\Git\\\\usr\\\\lib\\\\pkgconfig;C:\\\\Program Files\\\\Git\\\\usr\\\\share\\\\pkgconfig;C:\\\\Program Files\\\\Git\\\\lib\\\\pkgconfig', 'PROCESSOR_ARCHITECTURE': 'AMD64', 'PROCESSOR_IDENTIFIER': 'Intel64 Family 6 Model 63 Stepping 2, GenuineIntel', 'PROCESSOR_LEVEL': '6', 'PROCESSOR_REVISION': '3f02', 'PROGRAMFILES': 'C:\\\\Program Files', 'PROMPT': '$P$G', 'PS1': '\\\\[\\\\033]0;$TITLEPREFIX:$PWD\\\\007\\\\]\\\\n\\\\[\\\\033[32m\\\\]\\\\u@\\\\h \\\\[\\\\033[35m\\\\]$MSYSTEM \\\\[\\\\033[33m\\\\]\\\\w\\\\[\\\\033[36m\\\\]`__git_ps1`\\\\[\\\\033[0m\\\\]\\\\n$ ', 'PSMODULEPATH': 'C:\\\\Users\\\\appveyor\\\\Documents\\\\WindowsPowerShell\\\\Modules;C:\\\\Users\\\\appveyor\\\\Documents\\\\WindowsPowerShell\\\\Modules;C:\\\\Program Files\\\\WindowsPowerShell\\\\Modules;C:\\\\Windows\\\\system32\\\\WindowsPowerShell\\\\v1.0\\\\Modules;C:\\\\Program Files (x86)\\\\Microsoft SQL Server\\\\110\\\\Tools\\\\PowerShell\\\\Modules;C:\\\\Program Files (x86)\\\\Microsoft SQL Server\\\\120\\\\Tools\\\\PowerShell\\\\Modules;C:\\\\Program Files\\\\AppVeyor\\\\BuildAgent\\\\Modules;C:\\\\Program Files (x86)\\\\Microsoft SQL Server\\\\130\\\\Tools\\\\PowerShell\\\\Modules;C:\\\\Program Files (x86)\\\\AWS Tools\\\\PowerShell;C:\\\\Program Files (x86)\\\\Microsoft SDKs\\\\Azure\\\\PowerShell\\\\ResourceManager\\\\AzureResourceManager;C:\\\\Program Files (x86)\\\\Microsoft SDKs\\\\Azure\\\\PowerShell\\\\ServiceManagement;C:\\\\Program Files (x86)\\\\Microsoft SDKs\\\\Azure\\\\PowerShell\\\\Storage;C:\\\\Program Files (x86)\\\\Microsoft SQL Server\\\\140\\\\Tools\\\\PowerShell\\\\Modules;c:\\\\Program Files (x86)\\\\Microsoft SQL Server\\\\130\\\\Tools\\\\PowerShell\\\\Modules\\\\', 'PUBLIC': 'C:\\\\Users\\\\Public', 'PWD': 'C:/projects/cython-blis', 'PLATFORM': 'X64', 'PROGRAMDATA': 'C:\\\\ProgramData', 'PROGRAMFILES(X86)': 'C:\\\\Program Files (x86)', 'PROGRAMW6432': 'C:\\\\Program Files', 'RANLIB': 'echo', 'SESSIONNAME': 'Console', 'SHELL': 'C:\\\\Program Files\\\\Git\\\\usr\\\\bin\\\\bash.exe', 'SHLVL': '1', 'SYSTEMDRIVE': 'C:', 'SYSTEMROOT': 'C:\\\\windows', 'TEMP': 'C:\\\\Users\\\\appveyor\\\\AppData\\\\Local\\\\Temp\\\\1', 'TERM': 'cygwin', 'TMP': 'C:\\\\Users\\\\appveyor\\\\AppData\\\\Local\\\\Temp\\\\1', 'TMPDIR': 'C:\\\\Users\\\\appveyor\\\\AppData\\\\Local\\\\Temp\\\\1', 'UCRTVERSION': '10.0.18362.0', 'USERDOMAIN': 'APPVYR-WIN', 'USERDOMAIN_ROAMINGPROFILE': 'APPVYR-WIN', 'USERNAME': 'appveyor', 'USERPROFILE': 'C:\\\\Users\\\\appveyor', 'UNIVERSALCRTSDKDIR': 'C:\\\\Program Files (x86)\\\\Windows Kits\\\\10\\\\', 'VCINSTALLDIR': 'C:\\\\Program Files (x86)\\\\Microsoft Visual Studio 14.0\\\\VC\\\\', 'VS100COMNTOOLS': 'c:\\\\Program Files (x86)\\\\Microsoft Visual Studio 10.0\\\\Common7\\\\Tools\\\\', 'VS110COMNTOOLS': 'C:\\\\Program Files (x86)\\\\Microsoft Visual Studio 11.0\\\\Common7\\\\Tools\\\\', 'VS120COMNTOOLS': 'C:\\\\Program Files (x86)\\\\Microsoft Visual Studio 12.0\\\\Common7\\\\Tools\\\\', 'VS140COMNTOOLS': 'C:\\\\Program Files (x86)\\\\Microsoft Visual Studio 14.0\\\\Common7\\\\Tools\\\\', 'VS90COMNTOOLS': 'C:\\\\Program Files (x86)\\\\Microsoft Visual Studio 9.0\\\\Common7\\\\Tools\\\\', 'VSINSTALLDIR': 'C:\\\\Program Files (x86)\\\\Microsoft Visual Studio 14.0\\\\', 'VSSDK120INSTALL': 'C:\\\\Program Files (x86)\\\\Microsoft Visual Studio 12.0\\\\VSSDK\\\\', 'VSSDK140INSTALL': 'C:\\\\Program Files (x86)\\\\Microsoft Visual Studio 14.0\\\\VSSDK\\\\', 'VISUALSTUDIOVERSION': '14.0', 'WINDIR': 'C:\\\\windows', 'WIX': 'C:\\\\Program Files (x86)\\\\WiX Toolset v3.11\\\\', 'WINDOWSLIBPATH': 'C:\\\\Program Files (x86)\\\\Windows Kits\\\\10\\\\UnionMetadata;C:\\\\Program Files (x86)\\\\Windows Kits\\\\10\\\\References', 'WINDOWSSDKLIBVERSION': '10.0.18362.0\\\\', 'WINDOWSSDKVERSION': '10.0.18362.0\\\\', 'WINDOWSSDK_EXECUTABLEPATH_X64': 'C:\\\\Program Files (x86)\\\\Microsoft SDKs\\\\Windows\\\\v10.0A\\\\bin\\\\NETFX 4.6.1 Tools\\\\x64\\\\', 'WINDOWSSDK_EXECUTABLEPATH_X86': 'C:\\\\Program Files (x86)\\\\Microsoft SDKs\\\\Windows\\\\v10.0A\\\\bin\\\\NETFX 4.6.1 Tools\\\\', 'WINDOWSSDKDIR': 'C:\\\\Program Files (x86)\\\\Windows Kits\\\\10\\\\', '_': 'C:/msys64/mingw64/bin/python', 'LASTEXITCODE': '0', 'XUNIT20': 'C:\\\\Tools\\\\xUnit20'}\n",
      "      [COMMAND] C:\\Program Files\\LLVM\\bin\\clang.exe -c C:\\Users\\Jul\\AppData\\Local\\Temp\\pip-install-0vn_7kq_\\blis\\blis\\_src\\config\\bulldozer\\bli_cntx_init_bulldozer.c -o C:\\Users\\Jul\\AppData\\Local\\Temp\\tmp6am_8m_1\\bli_cntx_init_bulldozer.o -O3 -std=c99 -D_POSIX_C_SOURCE=200112L -DBLIS_VERSION_STRING=\"0.7.0\" -DBLIS_IS_BUILDING_LIBRARY -Iinclude\\windows-x86_64 -I.\\frame\\3\\ -I.\\frame\\ind\\ukernels\\ -I.\\frame\\3\\ -I.\\frame\\1m\\ -I.\\frame\\1f\\ -I.\\frame\\1\\ -I.\\frame\\include -IC:\\Users\\Jul\\AppData\\Local\\Temp\\pip-install-0vn_7kq_\\blis\\blis\\_src\\include\\windows-x86_64\n",
      "      error: [WinError 2] The system cannot find the file specified\n",
      "      ----------------------------------------\n",
      "      ERROR: Failed building wheel for blis\n",
      "    Failed to build blis\n",
      "    ERROR: Could not build wheels for blis which use PEP 517 and cannot be installed directly\n",
      "    ----------------------------------------\n",
      "  ERROR: Command errored out with exit status 1: 'C:\\Users\\Jul\\anaconda3\\python.exe' 'C:\\Users\\Jul\\anaconda3\\lib\\site-packages\\pip' install --ignore-installed --no-user --prefix 'C:\\Users\\Jul\\AppData\\Local\\Temp\\pip-build-env-cyq8f2gd\\overlay' --no-warn-script-location --no-binary :none: --only-binary :none: -i https://pypi.org/simple -- setuptools 'cython>=0.25,<3.0' 'murmurhash>=0.28.0,<1.1.0' 'cymem>=2.0.2,<2.1.0' 'preshed>=3.0.2,<3.1.0' 'blis>=0.4.0,<0.8.0' 'numpy>=1.15.0' Check the logs for full command output.\n",
      "  ----------------------------------------\n",
      "ERROR: Command errored out with exit status 1: 'C:\\Users\\Jul\\anaconda3\\python.exe' 'C:\\Users\\Jul\\anaconda3\\lib\\site-packages\\pip' install --ignore-installed --no-user --prefix 'C:\\Users\\Jul\\AppData\\Local\\Temp\\pip-build-env-qly41v9t\\overlay' --no-warn-script-location --no-binary :none: --only-binary :none: -i https://pypi.org/simple -- setuptools 'cython>=0.25,<3.0' 'cymem>=2.0.2,<2.1.0' 'preshed>=3.0.2,<3.1.0' 'murmurhash>=0.28.0,<1.1.0' 'thinc>=8.0.12,<8.1.0' 'blis>=0.4.0,<0.8.0' pathy 'numpy>=1.15.0' Check the logs for full command output.\n",
      "C:\\Users\\Jul\\anaconda3\\python.exe: No module named spacy\n"
     ]
    }
   ],
   "source": [
    "import sys\n",
    "!{sys.executable} -m pip install spacy\n",
    "!{sys.executable} -m spacy download en"
   ]
  },
  {
   "cell_type": "code",
   "execution_count": 17,
   "metadata": {},
   "outputs": [
    {
     "name": "stdout",
     "output_type": "stream",
     "text": [
      "Collecting package metadata (current_repodata.json): ...working... done\n",
      "Solving environment: ...working... failed with initial frozen solve. Retrying with flexible solve.\n",
      "Collecting package metadata (repodata.json): ...working... done\n",
      "Solving environment: ...working... failed with initial frozen solve. Retrying with flexible solve.\n"
     ]
    },
    {
     "name": "stderr",
     "output_type": "stream",
     "text": [
      "C:\\Users\\Jul\\anaconda3\\lib\\site-packages\\requests\\__init__.py:89: RequestsDependencyWarning: urllib3 (1.26.7) or chardet (3.0.4) doesn't match a supported version!\n",
      "  warnings.warn(\"urllib3 ({}) or chardet ({}) doesn't match a supported \"\n",
      "\n",
      "PackagesNotFoundError: The following packages are not available from current channels:\n",
      "\n",
      "  - spacy=0.101.0\n",
      "\n",
      "Current channels:\n",
      "\n",
      "  - https://conda.anaconda.org/spacy/win-32\n",
      "  - https://conda.anaconda.org/spacy/noarch\n",
      "  - https://repo.anaconda.com/pkgs/main/win-32\n",
      "  - https://repo.anaconda.com/pkgs/main/noarch\n",
      "  - https://repo.anaconda.com/pkgs/r/win-32\n",
      "  - https://repo.anaconda.com/pkgs/r/noarch\n",
      "  - https://repo.anaconda.com/pkgs/msys2/win-32\n",
      "  - https://repo.anaconda.com/pkgs/msys2/noarch\n",
      "  - https://conda.anaconda.org/conda-forge/win-32\n",
      "  - https://conda.anaconda.org/conda-forge/noarch\n",
      "\n",
      "To search for alternate channels that may provide the conda package you're\n",
      "looking for, navigate to\n",
      "\n",
      "    https://anaconda.org\n",
      "\n",
      "and use the search bar at the top of the page.\n",
      "\n",
      "\n"
     ]
    }
   ],
   "source": [
    "!conda install -c spacy spacy=0.101.0 -y"
   ]
  },
  {
   "cell_type": "code",
   "execution_count": 1,
   "metadata": {},
   "outputs": [
    {
     "ename": "ModuleNotFoundError",
     "evalue": "No module named 'spacy'",
     "output_type": "error",
     "traceback": [
      "\u001b[1;31m---------------------------------------------------------------------------\u001b[0m",
      "\u001b[1;31mModuleNotFoundError\u001b[0m                       Traceback (most recent call last)",
      "\u001b[1;32m<ipython-input-1-2008eace2973>\u001b[0m in \u001b[0;36m<module>\u001b[1;34m\u001b[0m\n\u001b[1;32m----> 1\u001b[1;33m \u001b[1;32mimport\u001b[0m \u001b[0mspacy\u001b[0m\u001b[1;33m\u001b[0m\u001b[1;33m\u001b[0m\u001b[0m\n\u001b[0m\u001b[0;32m      2\u001b[0m \u001b[0mnlp\u001b[0m \u001b[1;33m=\u001b[0m \u001b[0mspacy\u001b[0m\u001b[1;33m.\u001b[0m\u001b[0mload\u001b[0m\u001b[1;33m(\u001b[0m\u001b[1;34m\"en_core_sci_lg\"\u001b[0m\u001b[1;33m)\u001b[0m\u001b[1;33m\u001b[0m\u001b[1;33m\u001b[0m\u001b[0m\n\u001b[0;32m      3\u001b[0m text = \"\"\"spaCy is an open-source software library for advanced natural language processing, \n\u001b[0;32m      4\u001b[0m \u001b[0mwritten\u001b[0m \u001b[1;32min\u001b[0m \u001b[0mthe\u001b[0m \u001b[0mprogramming\u001b[0m \u001b[0mlanguages\u001b[0m \u001b[0mPython\u001b[0m \u001b[1;32mand\u001b[0m \u001b[0mCython\u001b[0m\u001b[1;33m.\u001b[0m \u001b[0mThe\u001b[0m \u001b[0mlibrary\u001b[0m \u001b[1;32mis\u001b[0m \u001b[0mpublished\u001b[0m \u001b[0munder\u001b[0m \u001b[0mthe\u001b[0m \u001b[0mMIT\u001b[0m \u001b[0mlicense\u001b[0m\u001b[1;33m\u001b[0m\u001b[1;33m\u001b[0m\u001b[0m\n\u001b[0;32m      5\u001b[0m and its main developers are Matthew Honnibal and Ines Montani, the founders of the software company Explosion.\"\"\"\n",
      "\u001b[1;31mModuleNotFoundError\u001b[0m: No module named 'spacy'"
     ]
    }
   ],
   "source": [
    "nlp = spacy.load(\"en_core_sci_lg\")\n",
    "text = \"\"\"spaCy is an open-source software library for advanced natural language processing, \n",
    "written in the programming languages Python and Cython. The library is published under the MIT license\n",
    "and its main developers are Matthew Honnibal and Ines Montani, the founders of the software company Explosion.\"\"\"\n",
    "doc = nlp(text)\n",
    "print(doc.ents)"
   ]
  },
  {
   "cell_type": "code",
   "execution_count": null,
   "metadata": {},
   "outputs": [],
   "source": []
  }
 ],
 "metadata": {
  "kernelspec": {
   "display_name": "Python 3",
   "language": "python",
   "name": "python3"
  },
  "language_info": {
   "codemirror_mode": {
    "name": "ipython",
    "version": 3
   },
   "file_extension": ".py",
   "mimetype": "text/x-python",
   "name": "python",
   "nbconvert_exporter": "python",
   "pygments_lexer": "ipython3",
   "version": "3.8.3"
  }
 },
 "nbformat": 4,
 "nbformat_minor": 4
}
